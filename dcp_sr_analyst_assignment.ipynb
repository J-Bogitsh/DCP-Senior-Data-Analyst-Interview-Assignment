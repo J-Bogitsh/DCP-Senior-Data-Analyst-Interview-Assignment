{
 "cells": [
  {
   "cell_type": "code",
   "execution_count": 122,
   "metadata": {},
   "outputs": [],
   "source": [
    "# Importing packages\n",
    "import pandas as pd\n",
    "import geopandas as gpd\n",
    "import numpy as np\n",
    "import matplotlib as plt\n",
    "from matplotlib import pyplot as plt\n",
    "import plotly.express as px"
   ]
  },
  {
   "cell_type": "code",
   "execution_count": 123,
   "metadata": {},
   "outputs": [],
   "source": [
    "# Creating a dataframe from the given csv file\n",
    "data = pd.read_csv('NY_LEHD_WAC_2021_ZIP')\n",
    "df_total = pd.DataFrame(data)"
   ]
  },
  {
   "cell_type": "code",
   "execution_count": 124,
   "metadata": {},
   "outputs": [
    {
     "data": {
      "text/html": [
       "<div>\n",
       "<style scoped>\n",
       "    .dataframe tbody tr th:only-of-type {\n",
       "        vertical-align: middle;\n",
       "    }\n",
       "\n",
       "    .dataframe tbody tr th {\n",
       "        vertical-align: top;\n",
       "    }\n",
       "\n",
       "    .dataframe thead th {\n",
       "        text-align: right;\n",
       "    }\n",
       "</style>\n",
       "<table border=\"1\" class=\"dataframe\">\n",
       "  <thead>\n",
       "    <tr style=\"text-align: right;\">\n",
       "      <th></th>\n",
       "      <th>w_geocode</th>\n",
       "      <th>C000</th>\n",
       "      <th>CA01</th>\n",
       "      <th>CA02</th>\n",
       "      <th>CA03</th>\n",
       "      <th>CE01</th>\n",
       "      <th>CE02</th>\n",
       "      <th>CE03</th>\n",
       "      <th>CNS01</th>\n",
       "      <th>CNS02</th>\n",
       "      <th>...</th>\n",
       "      <th>CFA02</th>\n",
       "      <th>CFA03</th>\n",
       "      <th>CFA04</th>\n",
       "      <th>CFA05</th>\n",
       "      <th>CFS01</th>\n",
       "      <th>CFS02</th>\n",
       "      <th>CFS03</th>\n",
       "      <th>CFS04</th>\n",
       "      <th>CFS05</th>\n",
       "      <th>createdate</th>\n",
       "    </tr>\n",
       "  </thead>\n",
       "  <tbody>\n",
       "    <tr>\n",
       "      <th>0</th>\n",
       "      <td>360010001001003</td>\n",
       "      <td>2</td>\n",
       "      <td>0</td>\n",
       "      <td>2</td>\n",
       "      <td>0</td>\n",
       "      <td>0</td>\n",
       "      <td>0</td>\n",
       "      <td>2</td>\n",
       "      <td>0</td>\n",
       "      <td>0</td>\n",
       "      <td>...</td>\n",
       "      <td>0</td>\n",
       "      <td>0</td>\n",
       "      <td>0</td>\n",
       "      <td>0</td>\n",
       "      <td>0</td>\n",
       "      <td>0</td>\n",
       "      <td>0</td>\n",
       "      <td>0</td>\n",
       "      <td>0</td>\n",
       "      <td>20231016</td>\n",
       "    </tr>\n",
       "    <tr>\n",
       "      <th>1</th>\n",
       "      <td>360010001001004</td>\n",
       "      <td>51</td>\n",
       "      <td>6</td>\n",
       "      <td>41</td>\n",
       "      <td>4</td>\n",
       "      <td>3</td>\n",
       "      <td>3</td>\n",
       "      <td>45</td>\n",
       "      <td>0</td>\n",
       "      <td>0</td>\n",
       "      <td>...</td>\n",
       "      <td>0</td>\n",
       "      <td>0</td>\n",
       "      <td>0</td>\n",
       "      <td>0</td>\n",
       "      <td>0</td>\n",
       "      <td>0</td>\n",
       "      <td>0</td>\n",
       "      <td>0</td>\n",
       "      <td>0</td>\n",
       "      <td>20231016</td>\n",
       "    </tr>\n",
       "    <tr>\n",
       "      <th>2</th>\n",
       "      <td>360010001001005</td>\n",
       "      <td>33</td>\n",
       "      <td>6</td>\n",
       "      <td>16</td>\n",
       "      <td>11</td>\n",
       "      <td>1</td>\n",
       "      <td>4</td>\n",
       "      <td>28</td>\n",
       "      <td>0</td>\n",
       "      <td>0</td>\n",
       "      <td>...</td>\n",
       "      <td>0</td>\n",
       "      <td>0</td>\n",
       "      <td>0</td>\n",
       "      <td>0</td>\n",
       "      <td>0</td>\n",
       "      <td>0</td>\n",
       "      <td>0</td>\n",
       "      <td>0</td>\n",
       "      <td>0</td>\n",
       "      <td>20231016</td>\n",
       "    </tr>\n",
       "    <tr>\n",
       "      <th>3</th>\n",
       "      <td>360010001001006</td>\n",
       "      <td>38</td>\n",
       "      <td>7</td>\n",
       "      <td>24</td>\n",
       "      <td>7</td>\n",
       "      <td>6</td>\n",
       "      <td>5</td>\n",
       "      <td>27</td>\n",
       "      <td>0</td>\n",
       "      <td>0</td>\n",
       "      <td>...</td>\n",
       "      <td>0</td>\n",
       "      <td>0</td>\n",
       "      <td>0</td>\n",
       "      <td>0</td>\n",
       "      <td>0</td>\n",
       "      <td>0</td>\n",
       "      <td>0</td>\n",
       "      <td>0</td>\n",
       "      <td>0</td>\n",
       "      <td>20231016</td>\n",
       "    </tr>\n",
       "    <tr>\n",
       "      <th>4</th>\n",
       "      <td>360010001001007</td>\n",
       "      <td>127</td>\n",
       "      <td>13</td>\n",
       "      <td>77</td>\n",
       "      <td>37</td>\n",
       "      <td>15</td>\n",
       "      <td>23</td>\n",
       "      <td>89</td>\n",
       "      <td>0</td>\n",
       "      <td>0</td>\n",
       "      <td>...</td>\n",
       "      <td>0</td>\n",
       "      <td>0</td>\n",
       "      <td>0</td>\n",
       "      <td>0</td>\n",
       "      <td>0</td>\n",
       "      <td>0</td>\n",
       "      <td>0</td>\n",
       "      <td>0</td>\n",
       "      <td>0</td>\n",
       "      <td>20231016</td>\n",
       "    </tr>\n",
       "    <tr>\n",
       "      <th>...</th>\n",
       "      <td>...</td>\n",
       "      <td>...</td>\n",
       "      <td>...</td>\n",
       "      <td>...</td>\n",
       "      <td>...</td>\n",
       "      <td>...</td>\n",
       "      <td>...</td>\n",
       "      <td>...</td>\n",
       "      <td>...</td>\n",
       "      <td>...</td>\n",
       "      <td>...</td>\n",
       "      <td>...</td>\n",
       "      <td>...</td>\n",
       "      <td>...</td>\n",
       "      <td>...</td>\n",
       "      <td>...</td>\n",
       "      <td>...</td>\n",
       "      <td>...</td>\n",
       "      <td>...</td>\n",
       "      <td>...</td>\n",
       "      <td>...</td>\n",
       "    </tr>\n",
       "    <tr>\n",
       "      <th>104515</th>\n",
       "      <td>361231505022052</td>\n",
       "      <td>19</td>\n",
       "      <td>7</td>\n",
       "      <td>7</td>\n",
       "      <td>5</td>\n",
       "      <td>6</td>\n",
       "      <td>9</td>\n",
       "      <td>4</td>\n",
       "      <td>0</td>\n",
       "      <td>0</td>\n",
       "      <td>...</td>\n",
       "      <td>0</td>\n",
       "      <td>0</td>\n",
       "      <td>0</td>\n",
       "      <td>0</td>\n",
       "      <td>0</td>\n",
       "      <td>0</td>\n",
       "      <td>0</td>\n",
       "      <td>0</td>\n",
       "      <td>0</td>\n",
       "      <td>20231016</td>\n",
       "    </tr>\n",
       "    <tr>\n",
       "      <th>104516</th>\n",
       "      <td>361231505022054</td>\n",
       "      <td>14</td>\n",
       "      <td>4</td>\n",
       "      <td>7</td>\n",
       "      <td>3</td>\n",
       "      <td>7</td>\n",
       "      <td>7</td>\n",
       "      <td>0</td>\n",
       "      <td>0</td>\n",
       "      <td>0</td>\n",
       "      <td>...</td>\n",
       "      <td>0</td>\n",
       "      <td>0</td>\n",
       "      <td>0</td>\n",
       "      <td>0</td>\n",
       "      <td>0</td>\n",
       "      <td>0</td>\n",
       "      <td>0</td>\n",
       "      <td>0</td>\n",
       "      <td>0</td>\n",
       "      <td>20231016</td>\n",
       "    </tr>\n",
       "    <tr>\n",
       "      <th>104517</th>\n",
       "      <td>361231505022059</td>\n",
       "      <td>2</td>\n",
       "      <td>0</td>\n",
       "      <td>2</td>\n",
       "      <td>0</td>\n",
       "      <td>0</td>\n",
       "      <td>2</td>\n",
       "      <td>0</td>\n",
       "      <td>0</td>\n",
       "      <td>0</td>\n",
       "      <td>...</td>\n",
       "      <td>0</td>\n",
       "      <td>0</td>\n",
       "      <td>0</td>\n",
       "      <td>0</td>\n",
       "      <td>0</td>\n",
       "      <td>0</td>\n",
       "      <td>0</td>\n",
       "      <td>0</td>\n",
       "      <td>0</td>\n",
       "      <td>20231016</td>\n",
       "    </tr>\n",
       "    <tr>\n",
       "      <th>104518</th>\n",
       "      <td>361231505022062</td>\n",
       "      <td>5</td>\n",
       "      <td>2</td>\n",
       "      <td>3</td>\n",
       "      <td>0</td>\n",
       "      <td>2</td>\n",
       "      <td>3</td>\n",
       "      <td>0</td>\n",
       "      <td>0</td>\n",
       "      <td>0</td>\n",
       "      <td>...</td>\n",
       "      <td>0</td>\n",
       "      <td>0</td>\n",
       "      <td>0</td>\n",
       "      <td>0</td>\n",
       "      <td>0</td>\n",
       "      <td>0</td>\n",
       "      <td>0</td>\n",
       "      <td>0</td>\n",
       "      <td>0</td>\n",
       "      <td>20231016</td>\n",
       "    </tr>\n",
       "    <tr>\n",
       "      <th>104519</th>\n",
       "      <td>361231505022065</td>\n",
       "      <td>2</td>\n",
       "      <td>0</td>\n",
       "      <td>2</td>\n",
       "      <td>0</td>\n",
       "      <td>2</td>\n",
       "      <td>0</td>\n",
       "      <td>0</td>\n",
       "      <td>0</td>\n",
       "      <td>0</td>\n",
       "      <td>...</td>\n",
       "      <td>0</td>\n",
       "      <td>0</td>\n",
       "      <td>0</td>\n",
       "      <td>0</td>\n",
       "      <td>0</td>\n",
       "      <td>0</td>\n",
       "      <td>0</td>\n",
       "      <td>0</td>\n",
       "      <td>0</td>\n",
       "      <td>20231016</td>\n",
       "    </tr>\n",
       "  </tbody>\n",
       "</table>\n",
       "<p>104520 rows × 53 columns</p>\n",
       "</div>"
      ],
      "text/plain": [
       "              w_geocode  C000  CA01  CA02  CA03  CE01  CE02  CE03  CNS01  \\\n",
       "0       360010001001003     2     0     2     0     0     0     2      0   \n",
       "1       360010001001004    51     6    41     4     3     3    45      0   \n",
       "2       360010001001005    33     6    16    11     1     4    28      0   \n",
       "3       360010001001006    38     7    24     7     6     5    27      0   \n",
       "4       360010001001007   127    13    77    37    15    23    89      0   \n",
       "...                 ...   ...   ...   ...   ...   ...   ...   ...    ...   \n",
       "104515  361231505022052    19     7     7     5     6     9     4      0   \n",
       "104516  361231505022054    14     4     7     3     7     7     0      0   \n",
       "104517  361231505022059     2     0     2     0     0     2     0      0   \n",
       "104518  361231505022062     5     2     3     0     2     3     0      0   \n",
       "104519  361231505022065     2     0     2     0     2     0     0      0   \n",
       "\n",
       "        CNS02  ...  CFA02  CFA03  CFA04  CFA05  CFS01  CFS02  CFS03  CFS04  \\\n",
       "0           0  ...      0      0      0      0      0      0      0      0   \n",
       "1           0  ...      0      0      0      0      0      0      0      0   \n",
       "2           0  ...      0      0      0      0      0      0      0      0   \n",
       "3           0  ...      0      0      0      0      0      0      0      0   \n",
       "4           0  ...      0      0      0      0      0      0      0      0   \n",
       "...       ...  ...    ...    ...    ...    ...    ...    ...    ...    ...   \n",
       "104515      0  ...      0      0      0      0      0      0      0      0   \n",
       "104516      0  ...      0      0      0      0      0      0      0      0   \n",
       "104517      0  ...      0      0      0      0      0      0      0      0   \n",
       "104518      0  ...      0      0      0      0      0      0      0      0   \n",
       "104519      0  ...      0      0      0      0      0      0      0      0   \n",
       "\n",
       "        CFS05  createdate  \n",
       "0           0    20231016  \n",
       "1           0    20231016  \n",
       "2           0    20231016  \n",
       "3           0    20231016  \n",
       "4           0    20231016  \n",
       "...       ...         ...  \n",
       "104515      0    20231016  \n",
       "104516      0    20231016  \n",
       "104517      0    20231016  \n",
       "104518      0    20231016  \n",
       "104519      0    20231016  \n",
       "\n",
       "[104520 rows x 53 columns]"
      ]
     },
     "execution_count": 124,
     "metadata": {},
     "output_type": "execute_result"
    }
   ],
   "source": [
    "# Exploring the data\n",
    "df_total"
   ]
  },
  {
   "cell_type": "code",
   "execution_count": 125,
   "metadata": {},
   "outputs": [],
   "source": [
    "# creating a new dataframe of total jobs and jobs with an NAICS sector code\n",
    "df_industry = df_total[[\"w_geocode\", # Workplace Census Block Code\n",
    "                        \"C000\", # Total jobs\n",
    "                        \"CNS01\", # Number of jobs in NAICS sector 11 (Agriculture, Forestry, Fishing and Hunting)\n",
    "                        \"CNS02\", # Number of jobs in NAICS sector 21 (Mining, Quarrying, and Oil and Gas Extraction)\n",
    "                        \"CNS03\", # Number of jobs in NAICS sector 22 (Utilities)\n",
    "                        \"CNS04\", # Number of jobs in NAICS sector 23 (Construction)\n",
    "                        \"CNS05\", # Number of jobs in NAICS sector 31-33 (Manufacturing)\n",
    "                        \"CNS06\", # Number of jobs in NAICS sector 42 (Wholesale Trade)\n",
    "                        \"CNS07\", # Number of jobs in NAICS sector 44-45 (Retail Trade)\n",
    "                        \"CNS08\", # Number of jobs in NAICS sector 48-49 (Transportation and Warehousing)\n",
    "                        \"CNS09\", # Number of jobs in NAICS sector 51 (Information)\n",
    "                        \"CNS10\", # Number of jobs in NAICS sector 52 (Finance and Insurance)\n",
    "                        \"CNS11\", # Number of jobs in NAICS sector 53 (Real Estate and Rental and Leasing)\n",
    "                        \"CNS12\", # Number of jobs in NAICS sector 54 (Professional, Scientific, and Technical Services)\n",
    "                        \"CNS13\", # Number of jobs in NAICS sector 55 (Management of Companies and Enterprises)\n",
    "                        \"CNS14\", # Number of jobs in NAICS sector 56 (Administrative and Support and Waste Management and Remediation Services)\n",
    "                        \"CNS15\", # Number of jobs in NAICS sector 61 (Educational Services)\n",
    "                        \"CNS16\", # Number of jobs in NAICS sector 62 (Health Care and Social Assistance)\n",
    "                        \"CNS17\", # Number of jobs in NAICS sector 71 (Arts, Entertainment, and Recreation)\n",
    "                        \"CNS18\", # Number of jobs in NAICS sector 72 (Accommodation and Food Services)\n",
    "                        \"CNS19\", # Number of jobs in NAICS sector 81 (Other Services [except Public Administration])\n",
    "                        \"CNS20\" # Number of jobs in NAICS sector 92 (Public Administration)\n",
    "                        ]]"
   ]
  },
  {
   "cell_type": "code",
   "execution_count": 126,
   "metadata": {},
   "outputs": [
    {
     "data": {
      "text/plain": [
       "Index(['w_geocode', 'C000', 'CNS01', 'CNS02', 'CNS03', 'CNS04', 'CNS05',\n",
       "       'CNS06', 'CNS07', 'CNS08', 'CNS09', 'CNS10', 'CNS11', 'CNS12', 'CNS13',\n",
       "       'CNS14', 'CNS15', 'CNS16', 'CNS17', 'CNS18', 'CNS19', 'CNS20'],\n",
       "      dtype='object')"
      ]
     },
     "execution_count": 126,
     "metadata": {},
     "output_type": "execute_result"
    }
   ],
   "source": [
    "# Checking that the dataframe contains the selected columns\n",
    "df_industry.columns"
   ]
  },
  {
   "cell_type": "code",
   "execution_count": 127,
   "metadata": {},
   "outputs": [],
   "source": [
    "# Creating a multi-variable dictionary that convert WAC codes to NAICS Sector codes, Title, and DCP Macro Sector definitions\n",
    "\n",
    "wac_to_naics_dcp_code = {'CNS01':['11', 'Agriculture, Forestry, Fishing and Hunting', 'Industrial'],\n",
    "                     'CNS02':['21', 'Mining, Quarrying, and Oil and Gas Extraction', 'Industrial'],\n",
    "                     'CNS03':['22', 'Utilities', 'Industrial'],\n",
    "                     'CNS04':['23', 'Construction', 'Industrial'],\n",
    "                     'CNS05':['31-33', 'Manufacturing', 'Industrial'],\n",
    "                     'CNS06':['42', 'Wholesale Trade', 'Industrial'],\n",
    "                     'CNS07':['44-45', 'Retail Trade', 'Local Services'],\n",
    "                     'CNS08':['48-49', 'Transportation and Warehousing', 'Industrial'],\n",
    "                     'CNS09':['51', 'Information', 'Office'],\n",
    "                     'CNS10':['52', 'Finance and Insurance', 'Office'],\n",
    "                     'CNS11':['53', 'Real Estate and Rental and Leasing', 'Office'],\n",
    "                     'CNS12':['54', 'Professional, Scientific, and Technical Services', 'Office'],\n",
    "                     'CNS13':['55', 'Management of Companies and Enterprises', 'Office'],\n",
    "                     'CNS14':['56', 'Administrative and Support and Waste Management and Remediation Services', 'Office'],\n",
    "                     'CNS15':['61', 'Educational Services', 'Institutional'],\n",
    "                     'CNS16':['62', 'Health Care and Social Assistance', 'Institutional'],\n",
    "                     'CNS17':['71', 'Arts, Entertainment, and Recreation', 'Local Services'],\n",
    "                     'CNS18':['72', 'Accommodation and Food Services', 'Local Services'],\n",
    "                     'CNS19':['81', 'Other Services [except Public Administration]', 'Local Services'],\n",
    "                     'CNS20':['92', 'Public Administration', 'Public Administration']\n",
    "                     }"
   ]
  },
  {
   "cell_type": "code",
   "execution_count": 128,
   "metadata": {},
   "outputs": [],
   "source": [
    "# Reading in the two shapefiles - Census Blocks and NYC Community Districts. \n",
    "census_blocks_2020 = gpd.read_file(\"NYC_Census_Blocks_2020/NYC_Census_Blocks_2020.shp\")\n",
    "nyc_cd_2020 = gpd.read_file(\"NYC_Community_Districts_2020/NYC_Community_Districts_2020.shp\")"
   ]
  },
  {
   "cell_type": "code",
   "execution_count": 129,
   "metadata": {},
   "outputs": [
    {
     "data": {
      "text/html": [
       "<div>\n",
       "<style scoped>\n",
       "    .dataframe tbody tr th:only-of-type {\n",
       "        vertical-align: middle;\n",
       "    }\n",
       "\n",
       "    .dataframe tbody tr th {\n",
       "        vertical-align: top;\n",
       "    }\n",
       "\n",
       "    .dataframe thead th {\n",
       "        text-align: right;\n",
       "    }\n",
       "</style>\n",
       "<table border=\"1\" class=\"dataframe\">\n",
       "  <thead>\n",
       "    <tr style=\"text-align: right;\">\n",
       "      <th></th>\n",
       "      <th>CB2020</th>\n",
       "      <th>BoroCode</th>\n",
       "      <th>BoroName</th>\n",
       "      <th>CT2020</th>\n",
       "      <th>BCTCB2020</th>\n",
       "      <th>GEOID</th>\n",
       "      <th>geometry</th>\n",
       "    </tr>\n",
       "  </thead>\n",
       "  <tbody>\n",
       "    <tr>\n",
       "      <th>0</th>\n",
       "      <td>1000</td>\n",
       "      <td>1</td>\n",
       "      <td>Manhattan</td>\n",
       "      <td>000100</td>\n",
       "      <td>10001001000</td>\n",
       "      <td>360610001001000</td>\n",
       "      <td>POLYGON ((973172.666 194632.348, 973310.630 19...</td>\n",
       "    </tr>\n",
       "    <tr>\n",
       "      <th>1</th>\n",
       "      <td>1001</td>\n",
       "      <td>1</td>\n",
       "      <td>Manhattan</td>\n",
       "      <td>000100</td>\n",
       "      <td>10001001001</td>\n",
       "      <td>360610001001001</td>\n",
       "      <td>POLYGON ((972081.788 190733.467, 972184.766 19...</td>\n",
       "    </tr>\n",
       "    <tr>\n",
       "      <th>2</th>\n",
       "      <td>1000</td>\n",
       "      <td>1</td>\n",
       "      <td>Manhattan</td>\n",
       "      <td>000201</td>\n",
       "      <td>10002011000</td>\n",
       "      <td>360610002011000</td>\n",
       "      <td>POLYGON ((988376.731 199328.618, 987837.811 19...</td>\n",
       "    </tr>\n",
       "    <tr>\n",
       "      <th>3</th>\n",
       "      <td>1001</td>\n",
       "      <td>1</td>\n",
       "      <td>Manhattan</td>\n",
       "      <td>000201</td>\n",
       "      <td>10002011001</td>\n",
       "      <td>360610002011001</td>\n",
       "      <td>POLYGON ((988392.400 199070.298, 988285.301 19...</td>\n",
       "    </tr>\n",
       "    <tr>\n",
       "      <th>4</th>\n",
       "      <td>2000</td>\n",
       "      <td>1</td>\n",
       "      <td>Manhattan</td>\n",
       "      <td>000201</td>\n",
       "      <td>10002012000</td>\n",
       "      <td>360610002012000</td>\n",
       "      <td>POLYGON ((988422.186 198807.188, 988449.289 19...</td>\n",
       "    </tr>\n",
       "    <tr>\n",
       "      <th>...</th>\n",
       "      <td>...</td>\n",
       "      <td>...</td>\n",
       "      <td>...</td>\n",
       "      <td>...</td>\n",
       "      <td>...</td>\n",
       "      <td>...</td>\n",
       "      <td>...</td>\n",
       "    </tr>\n",
       "    <tr>\n",
       "      <th>37584</th>\n",
       "      <td>2008</td>\n",
       "      <td>4</td>\n",
       "      <td>Queens</td>\n",
       "      <td>014202</td>\n",
       "      <td>40142022008</td>\n",
       "      <td>360810142022008</td>\n",
       "      <td>POLYGON ((1035736.247 193578.383, 1034357.024 ...</td>\n",
       "    </tr>\n",
       "    <tr>\n",
       "      <th>37585</th>\n",
       "      <td>2001</td>\n",
       "      <td>3</td>\n",
       "      <td>Brooklyn</td>\n",
       "      <td>035000</td>\n",
       "      <td>30350002001</td>\n",
       "      <td>360470350002001</td>\n",
       "      <td>POLYGON ((989907.478 149120.748, 989754.444 14...</td>\n",
       "    </tr>\n",
       "    <tr>\n",
       "      <th>37586</th>\n",
       "      <td>2002</td>\n",
       "      <td>3</td>\n",
       "      <td>Brooklyn</td>\n",
       "      <td>035000</td>\n",
       "      <td>30350002002</td>\n",
       "      <td>360470350002002</td>\n",
       "      <td>POLYGON ((989907.478 149120.748, 989906.393 14...</td>\n",
       "    </tr>\n",
       "    <tr>\n",
       "      <th>37587</th>\n",
       "      <td>2007</td>\n",
       "      <td>4</td>\n",
       "      <td>Queens</td>\n",
       "      <td>014202</td>\n",
       "      <td>40142022007</td>\n",
       "      <td>360810142022007</td>\n",
       "      <td>POLYGON ((1035826.536 193360.221, 1035708.032 ...</td>\n",
       "    </tr>\n",
       "    <tr>\n",
       "      <th>37588</th>\n",
       "      <td>2009</td>\n",
       "      <td>4</td>\n",
       "      <td>Queens</td>\n",
       "      <td>014202</td>\n",
       "      <td>40142022009</td>\n",
       "      <td>360810142022009</td>\n",
       "      <td>POLYGON ((1034459.160 192862.761, 1034464.764 ...</td>\n",
       "    </tr>\n",
       "  </tbody>\n",
       "</table>\n",
       "<p>37589 rows × 7 columns</p>\n",
       "</div>"
      ],
      "text/plain": [
       "      CB2020 BoroCode   BoroName  CT2020    BCTCB2020            GEOID  \\\n",
       "0       1000        1  Manhattan  000100  10001001000  360610001001000   \n",
       "1       1001        1  Manhattan  000100  10001001001  360610001001001   \n",
       "2       1000        1  Manhattan  000201  10002011000  360610002011000   \n",
       "3       1001        1  Manhattan  000201  10002011001  360610002011001   \n",
       "4       2000        1  Manhattan  000201  10002012000  360610002012000   \n",
       "...      ...      ...        ...     ...          ...              ...   \n",
       "37584   2008        4     Queens  014202  40142022008  360810142022008   \n",
       "37585   2001        3   Brooklyn  035000  30350002001  360470350002001   \n",
       "37586   2002        3   Brooklyn  035000  30350002002  360470350002002   \n",
       "37587   2007        4     Queens  014202  40142022007  360810142022007   \n",
       "37588   2009        4     Queens  014202  40142022009  360810142022009   \n",
       "\n",
       "                                                geometry  \n",
       "0      POLYGON ((973172.666 194632.348, 973310.630 19...  \n",
       "1      POLYGON ((972081.788 190733.467, 972184.766 19...  \n",
       "2      POLYGON ((988376.731 199328.618, 987837.811 19...  \n",
       "3      POLYGON ((988392.400 199070.298, 988285.301 19...  \n",
       "4      POLYGON ((988422.186 198807.188, 988449.289 19...  \n",
       "...                                                  ...  \n",
       "37584  POLYGON ((1035736.247 193578.383, 1034357.024 ...  \n",
       "37585  POLYGON ((989907.478 149120.748, 989754.444 14...  \n",
       "37586  POLYGON ((989907.478 149120.748, 989906.393 14...  \n",
       "37587  POLYGON ((1035826.536 193360.221, 1035708.032 ...  \n",
       "37588  POLYGON ((1034459.160 192862.761, 1034464.764 ...  \n",
       "\n",
       "[37589 rows x 7 columns]"
      ]
     },
     "execution_count": 129,
     "metadata": {},
     "output_type": "execute_result"
    }
   ],
   "source": [
    "# Exploring the GeoDataframe structure.\n",
    "census_blocks_2020\n",
    "# [GEOID] from \"census_blocks_20202\" and [w_geocode] from the \"df_industry\" variable appear to be a common identifier.\n",
    "# This will be used later when I join the two dataframes."
   ]
  },
  {
   "cell_type": "code",
   "execution_count": 130,
   "metadata": {},
   "outputs": [],
   "source": [
    "# Renaming 'w_geocode' to 'GEOID' in the dataframe 'df_industry' to avoid conflicts\n",
    "df_industry = df_industry.rename(columns={'w_geocode':'GEOID'})"
   ]
  },
  {
   "cell_type": "code",
   "execution_count": 258,
   "metadata": {},
   "outputs": [],
   "source": [
    "# Performing the same action on the original dataframe 'df_total' for later use\n",
    "df_total = df_total.rename(columns={'w_geocode':'GEOID'})"
   ]
  },
  {
   "cell_type": "code",
   "execution_count": 131,
   "metadata": {},
   "outputs": [
    {
     "data": {
      "text/plain": [
       "GEOID    int64\n",
       "C000     int64\n",
       "CNS01    int64\n",
       "CNS02    int64\n",
       "CNS03    int64\n",
       "CNS04    int64\n",
       "CNS05    int64\n",
       "CNS06    int64\n",
       "CNS07    int64\n",
       "CNS08    int64\n",
       "CNS09    int64\n",
       "CNS10    int64\n",
       "CNS11    int64\n",
       "CNS12    int64\n",
       "CNS13    int64\n",
       "CNS14    int64\n",
       "CNS15    int64\n",
       "CNS16    int64\n",
       "CNS17    int64\n",
       "CNS18    int64\n",
       "CNS19    int64\n",
       "CNS20    int64\n",
       "dtype: object"
      ]
     },
     "execution_count": 131,
     "metadata": {},
     "output_type": "execute_result"
    }
   ],
   "source": [
    "# Checking data types\n",
    "df_industry.dtypes"
   ]
  },
  {
   "cell_type": "code",
   "execution_count": 133,
   "metadata": {},
   "outputs": [
    {
     "data": {
      "text/plain": [
       "GEOID         int64\n",
       "C000          int64\n",
       "CA01          int64\n",
       "CA02          int64\n",
       "CA03          int64\n",
       "CE01          int64\n",
       "CE02          int64\n",
       "CE03          int64\n",
       "CNS01         int64\n",
       "CNS02         int64\n",
       "CNS03         int64\n",
       "CNS04         int64\n",
       "CNS05         int64\n",
       "CNS06         int64\n",
       "CNS07         int64\n",
       "CNS08         int64\n",
       "CNS09         int64\n",
       "CNS10         int64\n",
       "CNS11         int64\n",
       "CNS12         int64\n",
       "CNS13         int64\n",
       "CNS14         int64\n",
       "CNS15         int64\n",
       "CNS16         int64\n",
       "CNS17         int64\n",
       "CNS18         int64\n",
       "CNS19         int64\n",
       "CNS20         int64\n",
       "CR01          int64\n",
       "CR02          int64\n",
       "CR03          int64\n",
       "CR04          int64\n",
       "CR05          int64\n",
       "CR07          int64\n",
       "CT01          int64\n",
       "CT02          int64\n",
       "CD01          int64\n",
       "CD02          int64\n",
       "CD03          int64\n",
       "CD04          int64\n",
       "CS01          int64\n",
       "CS02          int64\n",
       "CFA01         int64\n",
       "CFA02         int64\n",
       "CFA03         int64\n",
       "CFA04         int64\n",
       "CFA05         int64\n",
       "CFS01         int64\n",
       "CFS02         int64\n",
       "CFS03         int64\n",
       "CFS04         int64\n",
       "CFS05         int64\n",
       "createdate    int64\n",
       "dtype: object"
      ]
     },
     "execution_count": 133,
     "metadata": {},
     "output_type": "execute_result"
    }
   ],
   "source": [
    "#checking datatypes\n",
    "df_total.dtypes"
   ]
  },
  {
   "cell_type": "code",
   "execution_count": 136,
   "metadata": {},
   "outputs": [],
   "source": [
    "# Changing the 'GEOID' column from an integer to a string field to avoid join type errors\n",
    "df_industry['GEOID'] = df_industry['GEOID'].astype(str)"
   ]
  },
  {
   "cell_type": "code",
   "execution_count": 135,
   "metadata": {},
   "outputs": [],
   "source": [
    "# Changing the 'GEOID' column from an integer to a string field to avoid join type errors\n",
    "df_total['GEOID'] = df_total['GEOID'].astype(str)"
   ]
  },
  {
   "cell_type": "code",
   "execution_count": 137,
   "metadata": {},
   "outputs": [
    {
     "data": {
      "text/plain": [
       "<Projected CRS: EPSG:2263>\n",
       "Name: NAD83 / New York Long Island (ftUS)\n",
       "Axis Info [cartesian]:\n",
       "- X[east]: Easting (US survey foot)\n",
       "- Y[north]: Northing (US survey foot)\n",
       "Area of Use:\n",
       "- name: United States (USA) - New York - counties of Bronx; Kings; Nassau; New York; Queens; Richmond; Suffolk.\n",
       "- bounds: (-74.26, 40.47, -71.8, 41.3)\n",
       "Coordinate Operation:\n",
       "- name: SPCS83 New York Long Island zone (US survey foot)\n",
       "- method: Lambert Conic Conformal (2SP)\n",
       "Datum: North American Datum 1983\n",
       "- Ellipsoid: GRS 1980\n",
       "- Prime Meridian: Greenwich"
      ]
     },
     "execution_count": 137,
     "metadata": {},
     "output_type": "execute_result"
    }
   ],
   "source": [
    "# Checking the coordinate reference system of the Census Block dataframe\n",
    "# EPSG:2263 NAD83_New York Long Island (ftUS)\n",
    "census_blocks_2020.crs"
   ]
  },
  {
   "cell_type": "code",
   "execution_count": 138,
   "metadata": {},
   "outputs": [
    {
     "data": {
      "text/plain": [
       "<Projected CRS: EPSG:2263>\n",
       "Name: NAD83 / New York Long Island (ftUS)\n",
       "Axis Info [cartesian]:\n",
       "- X[east]: Easting (US survey foot)\n",
       "- Y[north]: Northing (US survey foot)\n",
       "Area of Use:\n",
       "- name: United States (USA) - New York - counties of Bronx; Kings; Nassau; New York; Queens; Richmond; Suffolk.\n",
       "- bounds: (-74.26, 40.47, -71.8, 41.3)\n",
       "Coordinate Operation:\n",
       "- name: SPCS83 New York Long Island zone (US survey foot)\n",
       "- method: Lambert Conic Conformal (2SP)\n",
       "Datum: North American Datum 1983\n",
       "- Ellipsoid: GRS 1980\n",
       "- Prime Meridian: Greenwich"
      ]
     },
     "execution_count": 138,
     "metadata": {},
     "output_type": "execute_result"
    }
   ],
   "source": [
    "# Checking the coordinate reference system of the NYC Community District file\n",
    "# Also EPSG:2263 NAD83_New York Long Island (ftUS)\n",
    "# This is necessary to create a spatial join of the two GeoDatabases.\n",
    "nyc_cd_2020.crs"
   ]
  },
  {
   "cell_type": "code",
   "execution_count": 139,
   "metadata": {},
   "outputs": [],
   "source": [
    "# Spatial join between NYC census blocks and NYC Community Districts.\n",
    "cb_2020_nyc_cd = census_blocks_2020.sjoin(nyc_cd_2020, how = \"left\", predicate = 'within')"
   ]
  },
  {
   "cell_type": "code",
   "execution_count": 140,
   "metadata": {},
   "outputs": [
    {
     "data": {
      "text/plain": [
       "(37589, 9)"
      ]
     },
     "execution_count": 140,
     "metadata": {},
     "output_type": "execute_result"
    }
   ],
   "source": [
    "# Checking the dataframe shape\n",
    "cb_2020_nyc_cd.shape"
   ]
  },
  {
   "cell_type": "code",
   "execution_count": 141,
   "metadata": {},
   "outputs": [],
   "source": [
    "# Querying census blocks that are only within Queens Community District 2 (402)\n",
    "cd_402 = cb_2020_nyc_cd[cb_2020_nyc_cd['BoroCD'] == 402]"
   ]
  },
  {
   "cell_type": "code",
   "execution_count": 142,
   "metadata": {},
   "outputs": [
    {
     "data": {
      "text/plain": [
       "(754, 9)"
      ]
     },
     "execution_count": 142,
     "metadata": {},
     "output_type": "execute_result"
    }
   ],
   "source": [
    "# Checking the dataframe shape\n",
    "cd_402.shape"
   ]
  },
  {
   "cell_type": "code",
   "execution_count": 143,
   "metadata": {},
   "outputs": [
    {
     "data": {
      "text/plain": [
       "<Axes: >"
      ]
     },
     "execution_count": 143,
     "metadata": {},
     "output_type": "execute_result"
    },
    {
     "data": {
      "image/png": "[encoded data removed]",
      "text/plain": [
       "<Figure size 640x480 with 1 Axes>"
      ]
     },
     "metadata": {},
     "output_type": "display_data"
    }
   ],
   "source": [
    "# Plotting the community district spatial data\n",
    "cd_402.plot()"
   ]
  },
  {
   "cell_type": "code",
   "execution_count": 144,
   "metadata": {},
   "outputs": [],
   "source": [
    "# Merging the CD402 GeodataFrame data with the WAC industry dataframe.\n",
    "cd_402_wac = pd.merge(cd_402, df_industry, how=\"left\", on='GEOID')"
   ]
  },
  {
   "cell_type": "code",
   "execution_count": 145,
   "metadata": {},
   "outputs": [
    {
     "data": {
      "text/html": [
       "<div>\n",
       "<style scoped>\n",
       "    .dataframe tbody tr th:only-of-type {\n",
       "        vertical-align: middle;\n",
       "    }\n",
       "\n",
       "    .dataframe tbody tr th {\n",
       "        vertical-align: top;\n",
       "    }\n",
       "\n",
       "    .dataframe thead th {\n",
       "        text-align: right;\n",
       "    }\n",
       "</style>\n",
       "<table border=\"1\" class=\"dataframe\">\n",
       "  <thead>\n",
       "    <tr style=\"text-align: right;\">\n",
       "      <th></th>\n",
       "      <th>CB2020</th>\n",
       "      <th>BoroCode</th>\n",
       "      <th>BoroName</th>\n",
       "      <th>CT2020</th>\n",
       "      <th>BCTCB2020</th>\n",
       "      <th>GEOID</th>\n",
       "      <th>geometry</th>\n",
       "      <th>index_right</th>\n",
       "      <th>BoroCD</th>\n",
       "      <th>C000</th>\n",
       "      <th>...</th>\n",
       "      <th>CNS11</th>\n",
       "      <th>CNS12</th>\n",
       "      <th>CNS13</th>\n",
       "      <th>CNS14</th>\n",
       "      <th>CNS15</th>\n",
       "      <th>CNS16</th>\n",
       "      <th>CNS17</th>\n",
       "      <th>CNS18</th>\n",
       "      <th>CNS19</th>\n",
       "      <th>CNS20</th>\n",
       "    </tr>\n",
       "  </thead>\n",
       "  <tbody>\n",
       "    <tr>\n",
       "      <th>0</th>\n",
       "      <td>1000</td>\n",
       "      <td>4</td>\n",
       "      <td>Queens</td>\n",
       "      <td>000101</td>\n",
       "      <td>40001011000</td>\n",
       "      <td>360810001011000</td>\n",
       "      <td>POLYGON ((996320.602 210040.171, 996257.098 20...</td>\n",
       "      <td>23.0</td>\n",
       "      <td>402.0</td>\n",
       "      <td>227.0</td>\n",
       "      <td>...</td>\n",
       "      <td>3.0</td>\n",
       "      <td>6.0</td>\n",
       "      <td>0.0</td>\n",
       "      <td>14.0</td>\n",
       "      <td>2.0</td>\n",
       "      <td>33.0</td>\n",
       "      <td>0.0</td>\n",
       "      <td>39.0</td>\n",
       "      <td>96.0</td>\n",
       "      <td>0.0</td>\n",
       "    </tr>\n",
       "  </tbody>\n",
       "</table>\n",
       "<p>1 rows × 30 columns</p>\n",
       "</div>"
      ],
      "text/plain": [
       "  CB2020 BoroCode BoroName  CT2020    BCTCB2020            GEOID  \\\n",
       "0   1000        4   Queens  000101  40001011000  360810001011000   \n",
       "\n",
       "                                            geometry  index_right  BoroCD  \\\n",
       "0  POLYGON ((996320.602 210040.171, 996257.098 20...         23.0   402.0   \n",
       "\n",
       "    C000  ...  CNS11  CNS12  CNS13  CNS14  CNS15  CNS16  CNS17  CNS18  CNS19  \\\n",
       "0  227.0  ...    3.0    6.0    0.0   14.0    2.0   33.0    0.0   39.0   96.0   \n",
       "\n",
       "   CNS20  \n",
       "0    0.0  \n",
       "\n",
       "[1 rows x 30 columns]"
      ]
     },
     "execution_count": 145,
     "metadata": {},
     "output_type": "execute_result"
    }
   ],
   "source": [
    "# Checking first row\n",
    "cd_402_wac.head(1)"
   ]
  },
  {
   "cell_type": "code",
   "execution_count": 146,
   "metadata": {},
   "outputs": [],
   "source": [
    "# Calculating the sum of each column ‘CNS01’ to ‘CNS20’ in the dataframe ‘cd_402_wac’ using the .sum() function\n",
    "# Storing the results in a new dataframe called ‘cd_402_wac_totals’ \n",
    "# Creating two columns: ‘WAC Code’ (the index) and ‘WAC Total’ (sums)\n",
    "\n",
    "cd_402_wac_totals = cd_402_wac[['CNS01','CNS02','CNS03','CNS04','CNS05','CNS06','CNS07','CNS08',\n",
    "                                'CNS09','CNS10','CNS11','CNS12','CNS13','CNS14','CNS15','CNS16',\n",
    "                                'CNS17','CNS18','CNS19','CNS20']].sum()\n",
    "\n",
    "cd_402_wac_totals = pd.DataFrame({\n",
    "    'WAC Code': cd_402_wac_totals.index,\n",
    "    'WAC Total': cd_402_wac_totals.values})"
   ]
  },
  {
   "cell_type": "code",
   "execution_count": 147,
   "metadata": {},
   "outputs": [],
   "source": [
    "# Creating three new columns in the 'cd_402_wac_totals' dataframe: 'NAICS Code', 'NAICS Title', and 'DCP Macro Sector'.\n",
    "# Using the map function to assign the values from the dictionary to the new columns where the reference column matches the key.\n",
    "# The lambda function checks if the key exists in the dictionary. If it does, it returns the corresponding 1st, 2nd, and 3rd value; if not, it returns None.\n",
    "\n",
    "cd_402_wac_totals['NAICS Code'] = cd_402_wac_totals['WAC Code'].map(lambda x: wac_to_naics_dcp_code.get(x)[0] if wac_to_naics_dcp_code.get(x) is not None else None)\n",
    "cd_402_wac_totals['NAICS Title'] = cd_402_wac_totals['WAC Code'].map(lambda x: wac_to_naics_dcp_code.get(x)[1] if wac_to_naics_dcp_code.get(x) is not None else None)\n",
    "cd_402_wac_totals['DCP Macro Sector'] = cd_402_wac_totals['WAC Code'].map(lambda x: wac_to_naics_dcp_code.get(x)[2] if wac_to_naics_dcp_code.get(x) is not None else None)"
   ]
  },
  {
   "cell_type": "code",
   "execution_count": 148,
   "metadata": {},
   "outputs": [
    {
     "data": {
      "text/html": [
       "<div>\n",
       "<style scoped>\n",
       "    .dataframe tbody tr th:only-of-type {\n",
       "        vertical-align: middle;\n",
       "    }\n",
       "\n",
       "    .dataframe tbody tr th {\n",
       "        vertical-align: top;\n",
       "    }\n",
       "\n",
       "    .dataframe thead th {\n",
       "        text-align: right;\n",
       "    }\n",
       "</style>\n",
       "<table border=\"1\" class=\"dataframe\">\n",
       "  <thead>\n",
       "    <tr style=\"text-align: right;\">\n",
       "      <th></th>\n",
       "      <th>WAC Code</th>\n",
       "      <th>WAC Total</th>\n",
       "      <th>NAICS Code</th>\n",
       "      <th>NAICS Title</th>\n",
       "      <th>DCP Macro Sector</th>\n",
       "    </tr>\n",
       "  </thead>\n",
       "  <tbody>\n",
       "    <tr>\n",
       "      <th>0</th>\n",
       "      <td>CNS01</td>\n",
       "      <td>6.0</td>\n",
       "      <td>11</td>\n",
       "      <td>Agriculture, Forestry, Fishing and Hunting</td>\n",
       "      <td>Industrial</td>\n",
       "    </tr>\n",
       "    <tr>\n",
       "      <th>1</th>\n",
       "      <td>CNS02</td>\n",
       "      <td>0.0</td>\n",
       "      <td>21</td>\n",
       "      <td>Mining, Quarrying, and Oil and Gas Extraction</td>\n",
       "      <td>Industrial</td>\n",
       "    </tr>\n",
       "    <tr>\n",
       "      <th>2</th>\n",
       "      <td>CNS03</td>\n",
       "      <td>13.0</td>\n",
       "      <td>22</td>\n",
       "      <td>Utilities</td>\n",
       "      <td>Industrial</td>\n",
       "    </tr>\n",
       "    <tr>\n",
       "      <th>3</th>\n",
       "      <td>CNS04</td>\n",
       "      <td>13187.0</td>\n",
       "      <td>23</td>\n",
       "      <td>Construction</td>\n",
       "      <td>Industrial</td>\n",
       "    </tr>\n",
       "    <tr>\n",
       "      <th>4</th>\n",
       "      <td>CNS05</td>\n",
       "      <td>4476.0</td>\n",
       "      <td>31-33</td>\n",
       "      <td>Manufacturing</td>\n",
       "      <td>Industrial</td>\n",
       "    </tr>\n",
       "    <tr>\n",
       "      <th>5</th>\n",
       "      <td>CNS06</td>\n",
       "      <td>4738.0</td>\n",
       "      <td>42</td>\n",
       "      <td>Wholesale Trade</td>\n",
       "      <td>Industrial</td>\n",
       "    </tr>\n",
       "    <tr>\n",
       "      <th>6</th>\n",
       "      <td>CNS07</td>\n",
       "      <td>6874.0</td>\n",
       "      <td>44-45</td>\n",
       "      <td>Retail Trade</td>\n",
       "      <td>Local Services</td>\n",
       "    </tr>\n",
       "    <tr>\n",
       "      <th>7</th>\n",
       "      <td>CNS08</td>\n",
       "      <td>5490.0</td>\n",
       "      <td>48-49</td>\n",
       "      <td>Transportation and Warehousing</td>\n",
       "      <td>Industrial</td>\n",
       "    </tr>\n",
       "    <tr>\n",
       "      <th>8</th>\n",
       "      <td>CNS09</td>\n",
       "      <td>1334.0</td>\n",
       "      <td>51</td>\n",
       "      <td>Information</td>\n",
       "      <td>Office</td>\n",
       "    </tr>\n",
       "    <tr>\n",
       "      <th>9</th>\n",
       "      <td>CNS10</td>\n",
       "      <td>2871.0</td>\n",
       "      <td>52</td>\n",
       "      <td>Finance and Insurance</td>\n",
       "      <td>Office</td>\n",
       "    </tr>\n",
       "    <tr>\n",
       "      <th>10</th>\n",
       "      <td>CNS11</td>\n",
       "      <td>1656.0</td>\n",
       "      <td>53</td>\n",
       "      <td>Real Estate and Rental and Leasing</td>\n",
       "      <td>Office</td>\n",
       "    </tr>\n",
       "    <tr>\n",
       "      <th>11</th>\n",
       "      <td>CNS12</td>\n",
       "      <td>2911.0</td>\n",
       "      <td>54</td>\n",
       "      <td>Professional, Scientific, and Technical Services</td>\n",
       "      <td>Office</td>\n",
       "    </tr>\n",
       "    <tr>\n",
       "      <th>12</th>\n",
       "      <td>CNS13</td>\n",
       "      <td>238.0</td>\n",
       "      <td>55</td>\n",
       "      <td>Management of Companies and Enterprises</td>\n",
       "      <td>Office</td>\n",
       "    </tr>\n",
       "    <tr>\n",
       "      <th>13</th>\n",
       "      <td>CNS14</td>\n",
       "      <td>14861.0</td>\n",
       "      <td>56</td>\n",
       "      <td>Administrative and Support and Waste Managemen...</td>\n",
       "      <td>Office</td>\n",
       "    </tr>\n",
       "    <tr>\n",
       "      <th>14</th>\n",
       "      <td>CNS15</td>\n",
       "      <td>3804.0</td>\n",
       "      <td>61</td>\n",
       "      <td>Educational Services</td>\n",
       "      <td>Institutional</td>\n",
       "    </tr>\n",
       "    <tr>\n",
       "      <th>15</th>\n",
       "      <td>CNS16</td>\n",
       "      <td>6790.0</td>\n",
       "      <td>62</td>\n",
       "      <td>Health Care and Social Assistance</td>\n",
       "      <td>Institutional</td>\n",
       "    </tr>\n",
       "    <tr>\n",
       "      <th>16</th>\n",
       "      <td>CNS17</td>\n",
       "      <td>277.0</td>\n",
       "      <td>71</td>\n",
       "      <td>Arts, Entertainment, and Recreation</td>\n",
       "      <td>Local Services</td>\n",
       "    </tr>\n",
       "    <tr>\n",
       "      <th>17</th>\n",
       "      <td>CNS18</td>\n",
       "      <td>3203.0</td>\n",
       "      <td>72</td>\n",
       "      <td>Accommodation and Food Services</td>\n",
       "      <td>Local Services</td>\n",
       "    </tr>\n",
       "    <tr>\n",
       "      <th>18</th>\n",
       "      <td>CNS19</td>\n",
       "      <td>1914.0</td>\n",
       "      <td>81</td>\n",
       "      <td>Other Services [except Public Administration]</td>\n",
       "      <td>Local Services</td>\n",
       "    </tr>\n",
       "    <tr>\n",
       "      <th>19</th>\n",
       "      <td>CNS20</td>\n",
       "      <td>12978.0</td>\n",
       "      <td>92</td>\n",
       "      <td>Public Administration</td>\n",
       "      <td>Public Administration</td>\n",
       "    </tr>\n",
       "  </tbody>\n",
       "</table>\n",
       "</div>"
      ],
      "text/plain": [
       "   WAC Code  WAC Total NAICS Code  \\\n",
       "0     CNS01        6.0         11   \n",
       "1     CNS02        0.0         21   \n",
       "2     CNS03       13.0         22   \n",
       "3     CNS04    13187.0         23   \n",
       "4     CNS05     4476.0      31-33   \n",
       "5     CNS06     4738.0         42   \n",
       "6     CNS07     6874.0      44-45   \n",
       "7     CNS08     5490.0      48-49   \n",
       "8     CNS09     1334.0         51   \n",
       "9     CNS10     2871.0         52   \n",
       "10    CNS11     1656.0         53   \n",
       "11    CNS12     2911.0         54   \n",
       "12    CNS13      238.0         55   \n",
       "13    CNS14    14861.0         56   \n",
       "14    CNS15     3804.0         61   \n",
       "15    CNS16     6790.0         62   \n",
       "16    CNS17      277.0         71   \n",
       "17    CNS18     3203.0         72   \n",
       "18    CNS19     1914.0         81   \n",
       "19    CNS20    12978.0         92   \n",
       "\n",
       "                                          NAICS Title       DCP Macro Sector  \n",
       "0          Agriculture, Forestry, Fishing and Hunting             Industrial  \n",
       "1       Mining, Quarrying, and Oil and Gas Extraction             Industrial  \n",
       "2                                           Utilities             Industrial  \n",
       "3                                        Construction             Industrial  \n",
       "4                                       Manufacturing             Industrial  \n",
       "5                                     Wholesale Trade             Industrial  \n",
       "6                                        Retail Trade         Local Services  \n",
       "7                      Transportation and Warehousing             Industrial  \n",
       "8                                         Information                 Office  \n",
       "9                               Finance and Insurance                 Office  \n",
       "10                 Real Estate and Rental and Leasing                 Office  \n",
       "11   Professional, Scientific, and Technical Services                 Office  \n",
       "12            Management of Companies and Enterprises                 Office  \n",
       "13  Administrative and Support and Waste Managemen...                 Office  \n",
       "14                               Educational Services          Institutional  \n",
       "15                  Health Care and Social Assistance          Institutional  \n",
       "16                Arts, Entertainment, and Recreation         Local Services  \n",
       "17                    Accommodation and Food Services         Local Services  \n",
       "18      Other Services [except Public Administration]         Local Services  \n",
       "19                              Public Administration  Public Administration  "
      ]
     },
     "execution_count": 148,
     "metadata": {},
     "output_type": "execute_result"
    }
   ],
   "source": [
    "# Checking that the transformations worked properly\n",
    "cd_402_wac_totals"
   ]
  },
  {
   "cell_type": "code",
   "execution_count": 149,
   "metadata": {},
   "outputs": [],
   "source": [
    "# Saving the file as a csv\n",
    "cd_402_wac_totals.to_csv('cd_402_wac_totals.csv', index=False)"
   ]
  },
  {
   "cell_type": "code",
   "execution_count": 150,
   "metadata": {},
   "outputs": [],
   "source": [
    "# Sorting values in descending order\n",
    "cd_402_wac_totals = cd_402_wac_totals.sort_values('WAC Code', ascending=False)"
   ]
  },
  {
   "cell_type": "code",
   "execution_count": 200,
   "metadata": {},
   "outputs": [
    {
     "data": {
      "application/vnd.plotly.v1+json": {
       "config": {
        "plotlyServerURL": "https://plot.ly"
       },
       "data": [
        {
         "alignmentgroup": "True",
         "hovertemplate": "DCP Macro Sector=Public Administration<br>WAC Total=%{x}<br>NAICS Title=%{y}<extra></extra>",
         "legendgroup": "Public Administration",
         "marker": {
          "color": "#636efa",
          "pattern": {
           "shape": ""
          }
         },
         "name": "Public Administration",
         "offsetgroup": "Public Administration",
         "orientation": "h",
         "showlegend": true,
         "textposition": "auto",
         "type": "bar",
         "x": [
          12978
         ],
         "xaxis": "x",
         "y": [
          "Public Administration"
         ],
         "yaxis": "y"
        },
        {
         "alignmentgroup": "True",
         "hovertemplate": "DCP Macro Sector=Local Services<br>WAC Total=%{x}<br>NAICS Title=%{y}<extra></extra>",
         "legendgroup": "Local Services",
         "marker": {
          "color": "#EF553B",
          "pattern": {
           "shape": ""
          }
         },
         "name": "Local Services",
         "offsetgroup": "Local Services",
         "orientation": "h",
         "showlegend": true,
         "textposition": "auto",
         "type": "bar",
         "x": [
          1914,
          3203,
          277,
          6874
         ],
         "xaxis": "x",
         "y": [
          "Other Services [except Public Administration]",
          "Accommodation and Food Services",
          "Arts, Entertainment, and Recreation",
          "Retail Trade"
         ],
         "yaxis": "y"
        },
        {
         "alignmentgroup": "True",
         "hovertemplate": "DCP Macro Sector=Institutional<br>WAC Total=%{x}<br>NAICS Title=%{y}<extra></extra>",
         "legendgroup": "Institutional",
         "marker": {
          "color": "#00cc96",
          "pattern": {
           "shape": ""
          }
         },
         "name": "Institutional",
         "offsetgroup": "Institutional",
         "orientation": "h",
         "showlegend": true,
         "textposition": "auto",
         "type": "bar",
         "x": [
          6790,
          3804
         ],
         "xaxis": "x",
         "y": [
          "Health Care and Social Assistance",
          "Educational Services"
         ],
         "yaxis": "y"
        },
        {
         "alignmentgroup": "True",
         "hovertemplate": "DCP Macro Sector=Office<br>WAC Total=%{x}<br>NAICS Title=%{y}<extra></extra>",
         "legendgroup": "Office",
         "marker": {
          "color": "#ab63fa",
          "pattern": {
           "shape": ""
          }
         },
         "name": "Office",
         "offsetgroup": "Office",
         "orientation": "h",
         "showlegend": true,
         "textposition": "auto",
         "type": "bar",
         "x": [
          14861,
          238,
          2911,
          1656,
          2871,
          1334
         ],
         "xaxis": "x",
         "y": [
          "Administrative and Support and Waste Management and Remediation Services",
          "Management of Companies and Enterprises",
          "Professional, Scientific, and Technical Services",
          "Real Estate and Rental and Leasing",
          "Finance and Insurance",
          "Information"
         ],
         "yaxis": "y"
        },
        {
         "alignmentgroup": "True",
         "hovertemplate": "DCP Macro Sector=Industrial<br>WAC Total=%{x}<br>NAICS Title=%{y}<extra></extra>",
         "legendgroup": "Industrial",
         "marker": {
          "color": "#FFA15A",
          "pattern": {
           "shape": ""
          }
         },
         "name": "Industrial",
         "offsetgroup": "Industrial",
         "orientation": "h",
         "showlegend": true,
         "textposition": "auto",
         "type": "bar",
         "x": [
          5490,
          4738,
          4476,
          13187,
          13,
          0,
          6
         ],
         "xaxis": "x",
         "y": [
          "Transportation and Warehousing",
          "Wholesale Trade",
          "Manufacturing",
          "Construction",
          "Utilities",
          "Mining, Quarrying, and Oil and Gas Extraction",
          "Agriculture, Forestry, Fishing and Hunting"
         ],
         "yaxis": "y"
        }
       ],
       "layout": {
        "barmode": "relative",
        "height": 500,
        "legend": {
         "title": {
          "text": "DCP Macro Sector"
         },
         "tracegroupgap": 0,
         "traceorder": "reversed"
        },
        "paper_bgcolor": "rgba(0, 0, 0, 0)",
        "plot_bgcolor": "rgba(0, 0, 0, 0)",
        "template": {
         "data": {
          "bar": [
           {
            "error_x": {
             "color": "#2a3f5f"
            },
            "error_y": {
             "color": "#2a3f5f"
            },
            "marker": {
             "line": {
              "color": "#E5ECF6",
              "width": 0.5
             },
             "pattern": {
              "fillmode": "overlay",
              "size": 10,
              "solidity": 0.2
             }
            },
            "type": "bar"
           }
          ],
          "barpolar": [
           {
            "marker": {
             "line": {
              "color": "#E5ECF6",
              "width": 0.5
             },
             "pattern": {
              "fillmode": "overlay",
              "size": 10,
              "solidity": 0.2
             }
            },
            "type": "barpolar"
           }
          ],
          "carpet": [
           {
            "aaxis": {
             "endlinecolor": "#2a3f5f",
             "gridcolor": "white",
             "linecolor": "white",
             "minorgridcolor": "white",
             "startlinecolor": "#2a3f5f"
            },
            "baxis": {
             "endlinecolor": "#2a3f5f",
             "gridcolor": "white",
             "linecolor": "white",
             "minorgridcolor": "white",
             "startlinecolor": "#2a3f5f"
            },
            "type": "carpet"
           }
          ],
          "choropleth": [
           {
            "colorbar": {
             "outlinewidth": 0,
             "ticks": ""
            },
            "type": "choropleth"
           }
          ],
          "contour": [
           {
            "colorbar": {
             "outlinewidth": 0,
             "ticks": ""
            },
            "colorscale": [
             [
              0,
              "#0d0887"
             ],
             [
              0.1111111111111111,
              "#46039f"
             ],
             [
              0.2222222222222222,
              "#7201a8"
             ],
             [
              0.3333333333333333,
              "#9c179e"
             ],
             [
              0.4444444444444444,
              "#bd3786"
             ],
             [
              0.5555555555555556,
              "#d8576b"
             ],
             [
              0.6666666666666666,
              "#ed7953"
             ],
             [
              0.7777777777777778,
              "#fb9f3a"
             ],
             [
              0.8888888888888888,
              "#fdca26"
             ],
             [
              1,
              "#f0f921"
             ]
            ],
            "type": "contour"
           }
          ],
          "contourcarpet": [
           {
            "colorbar": {
             "outlinewidth": 0,
             "ticks": ""
            },
            "type": "contourcarpet"
           }
          ],
          "heatmap": [
           {
            "colorbar": {
             "outlinewidth": 0,
             "ticks": ""
            },
            "colorscale": [
             [
              0,
              "#0d0887"
             ],
             [
              0.1111111111111111,
              "#46039f"
             ],
             [
              0.2222222222222222,
              "#7201a8"
             ],
             [
              0.3333333333333333,
              "#9c179e"
             ],
             [
              0.4444444444444444,
              "#bd3786"
             ],
             [
              0.5555555555555556,
              "#d8576b"
             ],
             [
              0.6666666666666666,
              "#ed7953"
             ],
             [
              0.7777777777777778,
              "#fb9f3a"
             ],
             [
              0.8888888888888888,
              "#fdca26"
             ],
             [
              1,
              "#f0f921"
             ]
            ],
            "type": "heatmap"
           }
          ],
          "heatmapgl": [
           {
            "colorbar": {
             "outlinewidth": 0,
             "ticks": ""
            },
            "colorscale": [
             [
              0,
              "#0d0887"
             ],
             [
              0.1111111111111111,
              "#46039f"
             ],
             [
              0.2222222222222222,
              "#7201a8"
             ],
             [
              0.3333333333333333,
              "#9c179e"
             ],
             [
              0.4444444444444444,
              "#bd3786"
             ],
             [
              0.5555555555555556,
              "#d8576b"
             ],
             [
              0.6666666666666666,
              "#ed7953"
             ],
             [
              0.7777777777777778,
              "#fb9f3a"
             ],
             [
              0.8888888888888888,
              "#fdca26"
             ],
             [
              1,
              "#f0f921"
             ]
            ],
            "type": "heatmapgl"
           }
          ],
          "histogram": [
           {
            "marker": {
             "pattern": {
              "fillmode": "overlay",
              "size": 10,
              "solidity": 0.2
             }
            },
            "type": "histogram"
           }
          ],
          "histogram2d": [
           {
            "colorbar": {
             "outlinewidth": 0,
             "ticks": ""
            },
            "colorscale": [
             [
              0,
              "#0d0887"
             ],
             [
              0.1111111111111111,
              "#46039f"
             ],
             [
              0.2222222222222222,
              "#7201a8"
             ],
             [
              0.3333333333333333,
              "#9c179e"
             ],
             [
              0.4444444444444444,
              "#bd3786"
             ],
             [
              0.5555555555555556,
              "#d8576b"
             ],
             [
              0.6666666666666666,
              "#ed7953"
             ],
             [
              0.7777777777777778,
              "#fb9f3a"
             ],
             [
              0.8888888888888888,
              "#fdca26"
             ],
             [
              1,
              "#f0f921"
             ]
            ],
            "type": "histogram2d"
           }
          ],
          "histogram2dcontour": [
           {
            "colorbar": {
             "outlinewidth": 0,
             "ticks": ""
            },
            "colorscale": [
             [
              0,
              "#0d0887"
             ],
             [
              0.1111111111111111,
              "#46039f"
             ],
             [
              0.2222222222222222,
              "#7201a8"
             ],
             [
              0.3333333333333333,
              "#9c179e"
             ],
             [
              0.4444444444444444,
              "#bd3786"
             ],
             [
              0.5555555555555556,
              "#d8576b"
             ],
             [
              0.6666666666666666,
              "#ed7953"
             ],
             [
              0.7777777777777778,
              "#fb9f3a"
             ],
             [
              0.8888888888888888,
              "#fdca26"
             ],
             [
              1,
              "#f0f921"
             ]
            ],
            "type": "histogram2dcontour"
           }
          ],
          "mesh3d": [
           {
            "colorbar": {
             "outlinewidth": 0,
             "ticks": ""
            },
            "type": "mesh3d"
           }
          ],
          "parcoords": [
           {
            "line": {
             "colorbar": {
              "outlinewidth": 0,
              "ticks": ""
             }
            },
            "type": "parcoords"
           }
          ],
          "pie": [
           {
            "automargin": true,
            "type": "pie"
           }
          ],
          "scatter": [
           {
            "fillpattern": {
             "fillmode": "overlay",
             "size": 10,
             "solidity": 0.2
            },
            "type": "scatter"
           }
          ],
          "scatter3d": [
           {
            "line": {
             "colorbar": {
              "outlinewidth": 0,
              "ticks": ""
             }
            },
            "marker": {
             "colorbar": {
              "outlinewidth": 0,
              "ticks": ""
             }
            },
            "type": "scatter3d"
           }
          ],
          "scattercarpet": [
           {
            "marker": {
             "colorbar": {
              "outlinewidth": 0,
              "ticks": ""
             }
            },
            "type": "scattercarpet"
           }
          ],
          "scattergeo": [
           {
            "marker": {
             "colorbar": {
              "outlinewidth": 0,
              "ticks": ""
             }
            },
            "type": "scattergeo"
           }
          ],
          "scattergl": [
           {
            "marker": {
             "colorbar": {
              "outlinewidth": 0,
              "ticks": ""
             }
            },
            "type": "scattergl"
           }
          ],
          "scattermapbox": [
           {
            "marker": {
             "colorbar": {
              "outlinewidth": 0,
              "ticks": ""
             }
            },
            "type": "scattermapbox"
           }
          ],
          "scatterpolar": [
           {
            "marker": {
             "colorbar": {
              "outlinewidth": 0,
              "ticks": ""
             }
            },
            "type": "scatterpolar"
           }
          ],
          "scatterpolargl": [
           {
            "marker": {
             "colorbar": {
              "outlinewidth": 0,
              "ticks": ""
             }
            },
            "type": "scatterpolargl"
           }
          ],
          "scatterternary": [
           {
            "marker": {
             "colorbar": {
              "outlinewidth": 0,
              "ticks": ""
             }
            },
            "type": "scatterternary"
           }
          ],
          "surface": [
           {
            "colorbar": {
             "outlinewidth": 0,
             "ticks": ""
            },
            "colorscale": [
             [
              0,
              "#0d0887"
             ],
             [
              0.1111111111111111,
              "#46039f"
             ],
             [
              0.2222222222222222,
              "#7201a8"
             ],
             [
              0.3333333333333333,
              "#9c179e"
             ],
             [
              0.4444444444444444,
              "#bd3786"
             ],
             [
              0.5555555555555556,
              "#d8576b"
             ],
             [
              0.6666666666666666,
              "#ed7953"
             ],
             [
              0.7777777777777778,
              "#fb9f3a"
             ],
             [
              0.8888888888888888,
              "#fdca26"
             ],
             [
              1,
              "#f0f921"
             ]
            ],
            "type": "surface"
           }
          ],
          "table": [
           {
            "cells": {
             "fill": {
              "color": "#EBF0F8"
             },
             "line": {
              "color": "white"
             }
            },
            "header": {
             "fill": {
              "color": "#C8D4E3"
             },
             "line": {
              "color": "white"
             }
            },
            "type": "table"
           }
          ]
         },
         "layout": {
          "annotationdefaults": {
           "arrowcolor": "#2a3f5f",
           "arrowhead": 0,
           "arrowwidth": 1
          },
          "autotypenumbers": "strict",
          "coloraxis": {
           "colorbar": {
            "outlinewidth": 0,
            "ticks": ""
           }
          },
          "colorscale": {
           "diverging": [
            [
             0,
             "#8e0152"
            ],
            [
             0.1,
             "#c51b7d"
            ],
            [
             0.2,
             "#de77ae"
            ],
            [
             0.3,
             "#f1b6da"
            ],
            [
             0.4,
             "#fde0ef"
            ],
            [
             0.5,
             "#f7f7f7"
            ],
            [
             0.6,
             "#e6f5d0"
            ],
            [
             0.7,
             "#b8e186"
            ],
            [
             0.8,
             "#7fbc41"
            ],
            [
             0.9,
             "#4d9221"
            ],
            [
             1,
             "#276419"
            ]
           ],
           "sequential": [
            [
             0,
             "#0d0887"
            ],
            [
             0.1111111111111111,
             "#46039f"
            ],
            [
             0.2222222222222222,
             "#7201a8"
            ],
            [
             0.3333333333333333,
             "#9c179e"
            ],
            [
             0.4444444444444444,
             "#bd3786"
            ],
            [
             0.5555555555555556,
             "#d8576b"
            ],
            [
             0.6666666666666666,
             "#ed7953"
            ],
            [
             0.7777777777777778,
             "#fb9f3a"
            ],
            [
             0.8888888888888888,
             "#fdca26"
            ],
            [
             1,
             "#f0f921"
            ]
           ],
           "sequentialminus": [
            [
             0,
             "#0d0887"
            ],
            [
             0.1111111111111111,
             "#46039f"
            ],
            [
             0.2222222222222222,
             "#7201a8"
            ],
            [
             0.3333333333333333,
             "#9c179e"
            ],
            [
             0.4444444444444444,
             "#bd3786"
            ],
            [
             0.5555555555555556,
             "#d8576b"
            ],
            [
             0.6666666666666666,
             "#ed7953"
            ],
            [
             0.7777777777777778,
             "#fb9f3a"
            ],
            [
             0.8888888888888888,
             "#fdca26"
            ],
            [
             1,
             "#f0f921"
            ]
           ]
          },
          "colorway": [
           "#636efa",
           "#EF553B",
           "#00cc96",
           "#ab63fa",
           "#FFA15A",
           "#19d3f3",
           "#FF6692",
           "#B6E880",
           "#FF97FF",
           "#FECB52"
          ],
          "font": {
           "color": "#2a3f5f"
          },
          "geo": {
           "bgcolor": "white",
           "lakecolor": "white",
           "landcolor": "#E5ECF6",
           "showlakes": true,
           "showland": true,
           "subunitcolor": "white"
          },
          "hoverlabel": {
           "align": "left"
          },
          "hovermode": "closest",
          "mapbox": {
           "style": "light"
          },
          "paper_bgcolor": "white",
          "plot_bgcolor": "#E5ECF6",
          "polar": {
           "angularaxis": {
            "gridcolor": "white",
            "linecolor": "white",
            "ticks": ""
           },
           "bgcolor": "#E5ECF6",
           "radialaxis": {
            "gridcolor": "white",
            "linecolor": "white",
            "ticks": ""
           }
          },
          "scene": {
           "xaxis": {
            "backgroundcolor": "#E5ECF6",
            "gridcolor": "white",
            "gridwidth": 2,
            "linecolor": "white",
            "showbackground": true,
            "ticks": "",
            "zerolinecolor": "white"
           },
           "yaxis": {
            "backgroundcolor": "#E5ECF6",
            "gridcolor": "white",
            "gridwidth": 2,
            "linecolor": "white",
            "showbackground": true,
            "ticks": "",
            "zerolinecolor": "white"
           },
           "zaxis": {
            "backgroundcolor": "#E5ECF6",
            "gridcolor": "white",
            "gridwidth": 2,
            "linecolor": "white",
            "showbackground": true,
            "ticks": "",
            "zerolinecolor": "white"
           }
          },
          "shapedefaults": {
           "line": {
            "color": "#2a3f5f"
           }
          },
          "ternary": {
           "aaxis": {
            "gridcolor": "white",
            "linecolor": "white",
            "ticks": ""
           },
           "baxis": {
            "gridcolor": "white",
            "linecolor": "white",
            "ticks": ""
           },
           "bgcolor": "#E5ECF6",
           "caxis": {
            "gridcolor": "white",
            "linecolor": "white",
            "ticks": ""
           }
          },
          "title": {
           "x": 0.05
          },
          "xaxis": {
           "automargin": true,
           "gridcolor": "white",
           "linecolor": "white",
           "ticks": "",
           "title": {
            "standoff": 15
           },
           "zerolinecolor": "white",
           "zerolinewidth": 2
          },
          "yaxis": {
           "automargin": true,
           "gridcolor": "white",
           "linecolor": "white",
           "ticks": "",
           "title": {
            "standoff": 15
           },
           "zerolinecolor": "white",
           "zerolinewidth": 2
          }
         }
        },
        "title": {
         "text": "Total Jobs per NAICS Title in CD402",
         "x": 0.5
        },
        "xaxis": {
         "anchor": "y",
         "domain": [
          0,
          1
         ],
         "title": {
          "text": "WAC Total"
         }
        },
        "yaxis": {
         "anchor": "x",
         "domain": [
          0,
          1
         ],
         "title": {
          "text": "NAICS Title"
         }
        }
       }
      }
     },
     "metadata": {},
     "output_type": "display_data"
    }
   ],
   "source": [
    "# Creating a horizontal bar chart using Plotly\n",
    "\n",
    "fig = px.bar(cd_402_wac_totals, x=\"WAC Total\", y=\"NAICS Title\", color=\"DCP Macro Sector\", orientation='h', \n",
    "             height=500, title='Total Jobs per NAICS Industry')\n",
    "fig.update_layout(legend_traceorder=\"reversed\")\n",
    "fig.update_layout(\n",
    "    {\n",
    "        \"paper_bgcolor\": \"rgba(0, 0, 0, 0)\",\n",
    "        \"plot_bgcolor\": \"rgba(0, 0, 0, 0)\",\n",
    "    }\n",
    ")\n",
    "fig.update_layout(title_text='Total Jobs per NAICS Title in CD402', title_x=0.5)\n",
    "fig.show()"
   ]
  },
  {
   "cell_type": "code",
   "execution_count": 227,
   "metadata": {},
   "outputs": [
    {
     "data": {
      "application/vnd.plotly.v1+json": {
       "config": {
        "plotlyServerURL": "https://plot.ly"
       },
       "data": [
        {
         "direction": "clockwise",
         "domain": {
          "x": [
           0,
           1
          ],
          "y": [
           0,
           1
          ]
         },
         "hovertemplate": "NAICS Title=%{label}<br>WAC Total=%{value}<extra></extra>",
         "labels": [
          "Public Administration",
          "Other Services [except Public Administration]",
          "Accommodation and Food Services",
          "Arts, Entertainment, and Recreation",
          "Health Care and Social Assistance",
          "Educational Services",
          "Administrative and Support and Waste Management and Remediation Services",
          "Management of Companies and Enterprises",
          "Professional, Scientific, and Technical Services",
          "Real Estate and Rental and Leasing",
          "Finance and Insurance",
          "Information",
          "Transportation and Warehousing",
          "Retail Trade",
          "Wholesale Trade",
          "Manufacturing",
          "Construction",
          "Utilities",
          "Mining, Quarrying, and Oil and Gas Extraction",
          "Agriculture, Forestry, Fishing and Hunting"
         ],
         "legendgroup": "",
         "name": "",
         "showlegend": true,
         "type": "pie",
         "values": [
          12978,
          1914,
          3203,
          277,
          6790,
          3804,
          14861,
          238,
          2911,
          1656,
          2871,
          1334,
          5490,
          6874,
          4738,
          4476,
          13187,
          13,
          0,
          6
         ]
        }
       ],
       "layout": {
        "height": 800,
        "legend": {
         "font": {
          "size": 14
         },
         "title": {
          "font": {
           "family": "Times New Roman"
          }
         },
         "tracegroupgap": 0,
         "y": 0.5
        },
        "paper_bgcolor": "rgba(0, 0, 0, 0)",
        "plot_bgcolor": "rgba(0, 0, 0, 0)",
        "template": {
         "data": {
          "bar": [
           {
            "error_x": {
             "color": "#2a3f5f"
            },
            "error_y": {
             "color": "#2a3f5f"
            },
            "marker": {
             "line": {
              "color": "#E5ECF6",
              "width": 0.5
             },
             "pattern": {
              "fillmode": "overlay",
              "size": 10,
              "solidity": 0.2
             }
            },
            "type": "bar"
           }
          ],
          "barpolar": [
           {
            "marker": {
             "line": {
              "color": "#E5ECF6",
              "width": 0.5
             },
             "pattern": {
              "fillmode": "overlay",
              "size": 10,
              "solidity": 0.2
             }
            },
            "type": "barpolar"
           }
          ],
          "carpet": [
           {
            "aaxis": {
             "endlinecolor": "#2a3f5f",
             "gridcolor": "white",
             "linecolor": "white",
             "minorgridcolor": "white",
             "startlinecolor": "#2a3f5f"
            },
            "baxis": {
             "endlinecolor": "#2a3f5f",
             "gridcolor": "white",
             "linecolor": "white",
             "minorgridcolor": "white",
             "startlinecolor": "#2a3f5f"
            },
            "type": "carpet"
           }
          ],
          "choropleth": [
           {
            "colorbar": {
             "outlinewidth": 0,
             "ticks": ""
            },
            "type": "choropleth"
           }
          ],
          "contour": [
           {
            "colorbar": {
             "outlinewidth": 0,
             "ticks": ""
            },
            "colorscale": [
             [
              0,
              "#0d0887"
             ],
             [
              0.1111111111111111,
              "#46039f"
             ],
             [
              0.2222222222222222,
              "#7201a8"
             ],
             [
              0.3333333333333333,
              "#9c179e"
             ],
             [
              0.4444444444444444,
              "#bd3786"
             ],
             [
              0.5555555555555556,
              "#d8576b"
             ],
             [
              0.6666666666666666,
              "#ed7953"
             ],
             [
              0.7777777777777778,
              "#fb9f3a"
             ],
             [
              0.8888888888888888,
              "#fdca26"
             ],
             [
              1,
              "#f0f921"
             ]
            ],
            "type": "contour"
           }
          ],
          "contourcarpet": [
           {
            "colorbar": {
             "outlinewidth": 0,
             "ticks": ""
            },
            "type": "contourcarpet"
           }
          ],
          "heatmap": [
           {
            "colorbar": {
             "outlinewidth": 0,
             "ticks": ""
            },
            "colorscale": [
             [
              0,
              "#0d0887"
             ],
             [
              0.1111111111111111,
              "#46039f"
             ],
             [
              0.2222222222222222,
              "#7201a8"
             ],
             [
              0.3333333333333333,
              "#9c179e"
             ],
             [
              0.4444444444444444,
              "#bd3786"
             ],
             [
              0.5555555555555556,
              "#d8576b"
             ],
             [
              0.6666666666666666,
              "#ed7953"
             ],
             [
              0.7777777777777778,
              "#fb9f3a"
             ],
             [
              0.8888888888888888,
              "#fdca26"
             ],
             [
              1,
              "#f0f921"
             ]
            ],
            "type": "heatmap"
           }
          ],
          "heatmapgl": [
           {
            "colorbar": {
             "outlinewidth": 0,
             "ticks": ""
            },
            "colorscale": [
             [
              0,
              "#0d0887"
             ],
             [
              0.1111111111111111,
              "#46039f"
             ],
             [
              0.2222222222222222,
              "#7201a8"
             ],
             [
              0.3333333333333333,
              "#9c179e"
             ],
             [
              0.4444444444444444,
              "#bd3786"
             ],
             [
              0.5555555555555556,
              "#d8576b"
             ],
             [
              0.6666666666666666,
              "#ed7953"
             ],
             [
              0.7777777777777778,
              "#fb9f3a"
             ],
             [
              0.8888888888888888,
              "#fdca26"
             ],
             [
              1,
              "#f0f921"
             ]
            ],
            "type": "heatmapgl"
           }
          ],
          "histogram": [
           {
            "marker": {
             "pattern": {
              "fillmode": "overlay",
              "size": 10,
              "solidity": 0.2
             }
            },
            "type": "histogram"
           }
          ],
          "histogram2d": [
           {
            "colorbar": {
             "outlinewidth": 0,
             "ticks": ""
            },
            "colorscale": [
             [
              0,
              "#0d0887"
             ],
             [
              0.1111111111111111,
              "#46039f"
             ],
             [
              0.2222222222222222,
              "#7201a8"
             ],
             [
              0.3333333333333333,
              "#9c179e"
             ],
             [
              0.4444444444444444,
              "#bd3786"
             ],
             [
              0.5555555555555556,
              "#d8576b"
             ],
             [
              0.6666666666666666,
              "#ed7953"
             ],
             [
              0.7777777777777778,
              "#fb9f3a"
             ],
             [
              0.8888888888888888,
              "#fdca26"
             ],
             [
              1,
              "#f0f921"
             ]
            ],
            "type": "histogram2d"
           }
          ],
          "histogram2dcontour": [
           {
            "colorbar": {
             "outlinewidth": 0,
             "ticks": ""
            },
            "colorscale": [
             [
              0,
              "#0d0887"
             ],
             [
              0.1111111111111111,
              "#46039f"
             ],
             [
              0.2222222222222222,
              "#7201a8"
             ],
             [
              0.3333333333333333,
              "#9c179e"
             ],
             [
              0.4444444444444444,
              "#bd3786"
             ],
             [
              0.5555555555555556,
              "#d8576b"
             ],
             [
              0.6666666666666666,
              "#ed7953"
             ],
             [
              0.7777777777777778,
              "#fb9f3a"
             ],
             [
              0.8888888888888888,
              "#fdca26"
             ],
             [
              1,
              "#f0f921"
             ]
            ],
            "type": "histogram2dcontour"
           }
          ],
          "mesh3d": [
           {
            "colorbar": {
             "outlinewidth": 0,
             "ticks": ""
            },
            "type": "mesh3d"
           }
          ],
          "parcoords": [
           {
            "line": {
             "colorbar": {
              "outlinewidth": 0,
              "ticks": ""
             }
            },
            "type": "parcoords"
           }
          ],
          "pie": [
           {
            "automargin": true,
            "type": "pie"
           }
          ],
          "scatter": [
           {
            "fillpattern": {
             "fillmode": "overlay",
             "size": 10,
             "solidity": 0.2
            },
            "type": "scatter"
           }
          ],
          "scatter3d": [
           {
            "line": {
             "colorbar": {
              "outlinewidth": 0,
              "ticks": ""
             }
            },
            "marker": {
             "colorbar": {
              "outlinewidth": 0,
              "ticks": ""
             }
            },
            "type": "scatter3d"
           }
          ],
          "scattercarpet": [
           {
            "marker": {
             "colorbar": {
              "outlinewidth": 0,
              "ticks": ""
             }
            },
            "type": "scattercarpet"
           }
          ],
          "scattergeo": [
           {
            "marker": {
             "colorbar": {
              "outlinewidth": 0,
              "ticks": ""
             }
            },
            "type": "scattergeo"
           }
          ],
          "scattergl": [
           {
            "marker": {
             "colorbar": {
              "outlinewidth": 0,
              "ticks": ""
             }
            },
            "type": "scattergl"
           }
          ],
          "scattermapbox": [
           {
            "marker": {
             "colorbar": {
              "outlinewidth": 0,
              "ticks": ""
             }
            },
            "type": "scattermapbox"
           }
          ],
          "scatterpolar": [
           {
            "marker": {
             "colorbar": {
              "outlinewidth": 0,
              "ticks": ""
             }
            },
            "type": "scatterpolar"
           }
          ],
          "scatterpolargl": [
           {
            "marker": {
             "colorbar": {
              "outlinewidth": 0,
              "ticks": ""
             }
            },
            "type": "scatterpolargl"
           }
          ],
          "scatterternary": [
           {
            "marker": {
             "colorbar": {
              "outlinewidth": 0,
              "ticks": ""
             }
            },
            "type": "scatterternary"
           }
          ],
          "surface": [
           {
            "colorbar": {
             "outlinewidth": 0,
             "ticks": ""
            },
            "colorscale": [
             [
              0,
              "#0d0887"
             ],
             [
              0.1111111111111111,
              "#46039f"
             ],
             [
              0.2222222222222222,
              "#7201a8"
             ],
             [
              0.3333333333333333,
              "#9c179e"
             ],
             [
              0.4444444444444444,
              "#bd3786"
             ],
             [
              0.5555555555555556,
              "#d8576b"
             ],
             [
              0.6666666666666666,
              "#ed7953"
             ],
             [
              0.7777777777777778,
              "#fb9f3a"
             ],
             [
              0.8888888888888888,
              "#fdca26"
             ],
             [
              1,
              "#f0f921"
             ]
            ],
            "type": "surface"
           }
          ],
          "table": [
           {
            "cells": {
             "fill": {
              "color": "#EBF0F8"
             },
             "line": {
              "color": "white"
             }
            },
            "header": {
             "fill": {
              "color": "#C8D4E3"
             },
             "line": {
              "color": "white"
             }
            },
            "type": "table"
           }
          ]
         },
         "layout": {
          "annotationdefaults": {
           "arrowcolor": "#2a3f5f",
           "arrowhead": 0,
           "arrowwidth": 1
          },
          "autotypenumbers": "strict",
          "coloraxis": {
           "colorbar": {
            "outlinewidth": 0,
            "ticks": ""
           }
          },
          "colorscale": {
           "diverging": [
            [
             0,
             "#8e0152"
            ],
            [
             0.1,
             "#c51b7d"
            ],
            [
             0.2,
             "#de77ae"
            ],
            [
             0.3,
             "#f1b6da"
            ],
            [
             0.4,
             "#fde0ef"
            ],
            [
             0.5,
             "#f7f7f7"
            ],
            [
             0.6,
             "#e6f5d0"
            ],
            [
             0.7,
             "#b8e186"
            ],
            [
             0.8,
             "#7fbc41"
            ],
            [
             0.9,
             "#4d9221"
            ],
            [
             1,
             "#276419"
            ]
           ],
           "sequential": [
            [
             0,
             "#0d0887"
            ],
            [
             0.1111111111111111,
             "#46039f"
            ],
            [
             0.2222222222222222,
             "#7201a8"
            ],
            [
             0.3333333333333333,
             "#9c179e"
            ],
            [
             0.4444444444444444,
             "#bd3786"
            ],
            [
             0.5555555555555556,
             "#d8576b"
            ],
            [
             0.6666666666666666,
             "#ed7953"
            ],
            [
             0.7777777777777778,
             "#fb9f3a"
            ],
            [
             0.8888888888888888,
             "#fdca26"
            ],
            [
             1,
             "#f0f921"
            ]
           ],
           "sequentialminus": [
            [
             0,
             "#0d0887"
            ],
            [
             0.1111111111111111,
             "#46039f"
            ],
            [
             0.2222222222222222,
             "#7201a8"
            ],
            [
             0.3333333333333333,
             "#9c179e"
            ],
            [
             0.4444444444444444,
             "#bd3786"
            ],
            [
             0.5555555555555556,
             "#d8576b"
            ],
            [
             0.6666666666666666,
             "#ed7953"
            ],
            [
             0.7777777777777778,
             "#fb9f3a"
            ],
            [
             0.8888888888888888,
             "#fdca26"
            ],
            [
             1,
             "#f0f921"
            ]
           ]
          },
          "colorway": [
           "#636efa",
           "#EF553B",
           "#00cc96",
           "#ab63fa",
           "#FFA15A",
           "#19d3f3",
           "#FF6692",
           "#B6E880",
           "#FF97FF",
           "#FECB52"
          ],
          "font": {
           "color": "#2a3f5f"
          },
          "geo": {
           "bgcolor": "white",
           "lakecolor": "white",
           "landcolor": "#E5ECF6",
           "showlakes": true,
           "showland": true,
           "subunitcolor": "white"
          },
          "hoverlabel": {
           "align": "left"
          },
          "hovermode": "closest",
          "mapbox": {
           "style": "light"
          },
          "paper_bgcolor": "white",
          "plot_bgcolor": "#E5ECF6",
          "polar": {
           "angularaxis": {
            "gridcolor": "white",
            "linecolor": "white",
            "ticks": ""
           },
           "bgcolor": "#E5ECF6",
           "radialaxis": {
            "gridcolor": "white",
            "linecolor": "white",
            "ticks": ""
           }
          },
          "scene": {
           "xaxis": {
            "backgroundcolor": "#E5ECF6",
            "gridcolor": "white",
            "gridwidth": 2,
            "linecolor": "white",
            "showbackground": true,
            "ticks": "",
            "zerolinecolor": "white"
           },
           "yaxis": {
            "backgroundcolor": "#E5ECF6",
            "gridcolor": "white",
            "gridwidth": 2,
            "linecolor": "white",
            "showbackground": true,
            "ticks": "",
            "zerolinecolor": "white"
           },
           "zaxis": {
            "backgroundcolor": "#E5ECF6",
            "gridcolor": "white",
            "gridwidth": 2,
            "linecolor": "white",
            "showbackground": true,
            "ticks": "",
            "zerolinecolor": "white"
           }
          },
          "shapedefaults": {
           "line": {
            "color": "#2a3f5f"
           }
          },
          "ternary": {
           "aaxis": {
            "gridcolor": "white",
            "linecolor": "white",
            "ticks": ""
           },
           "baxis": {
            "gridcolor": "white",
            "linecolor": "white",
            "ticks": ""
           },
           "bgcolor": "#E5ECF6",
           "caxis": {
            "gridcolor": "white",
            "linecolor": "white",
            "ticks": ""
           }
          },
          "title": {
           "x": 0.05
          },
          "xaxis": {
           "automargin": true,
           "gridcolor": "white",
           "linecolor": "white",
           "ticks": "",
           "title": {
            "standoff": 15
           },
           "zerolinecolor": "white",
           "zerolinewidth": 2
          },
          "yaxis": {
           "automargin": true,
           "gridcolor": "white",
           "linecolor": "white",
           "ticks": "",
           "title": {
            "standoff": 15
           },
           "zerolinecolor": "white",
           "zerolinewidth": 2
          }
         }
        },
        "title": {
         "text": "Industry in CD 402 by NAICS Title",
         "x": 0.5
        },
        "uniformtext": {
         "minsize": 20,
         "mode": "hide"
        }
       }
      }
     },
     "metadata": {},
     "output_type": "display_data"
    }
   ],
   "source": [
    "# Creating a pie chart for NAICS Title\n",
    "\n",
    "fig = px.pie(cd_402_wac_totals, values='WAC Total', names='NAICS Title', title='Industry in CD 402', height=800)\n",
    "fig.update_traces(direction=\"clockwise\")\n",
    "fig.update_layout(\n",
    "    {\n",
    "        \"paper_bgcolor\": \"rgba(0, 0, 0, 0)\",\n",
    "        \"plot_bgcolor\": \"rgba(0, 0, 0, 0)\",\n",
    "    })\n",
    "fig.update_layout(title_text='Industry in CD 402 by NAICS Title', title_x=0.5)\n",
    "fig.update_layout(uniformtext_minsize=20, uniformtext_mode='hide')\n",
    "fig.update_layout(legend=dict(title_font_family=\"Times New Roman\", font=dict(size= 14)))\n",
    "fig.update_layout(legend=dict(y=0.5))\n",
    "fig.show()"
   ]
  },
  {
   "cell_type": "code",
   "execution_count": 242,
   "metadata": {},
   "outputs": [
    {
     "data": {
      "application/vnd.plotly.v1+json": {
       "config": {
        "plotlyServerURL": "https://plot.ly"
       },
       "data": [
        {
         "direction": "clockwise",
         "domain": {
          "x": [
           0,
           1
          ],
          "y": [
           0,
           1
          ]
         },
         "hovertemplate": "DCP Macro Sector=%{label}<br>WAC Total=%{value}<extra></extra>",
         "labels": [
          "Public Administration",
          "Local Services",
          "Local Services",
          "Local Services",
          "Institutional",
          "Institutional",
          "Office",
          "Office",
          "Office",
          "Office",
          "Office",
          "Office",
          "Industrial",
          "Local Services",
          "Industrial",
          "Industrial",
          "Industrial",
          "Industrial",
          "Industrial",
          "Industrial"
         ],
         "legendgroup": "",
         "name": "",
         "showlegend": true,
         "type": "pie",
         "values": [
          12978,
          1914,
          3203,
          277,
          6790,
          3804,
          14861,
          238,
          2911,
          1656,
          2871,
          1334,
          5490,
          6874,
          4738,
          4476,
          13187,
          13,
          0,
          6
         ]
        }
       ],
       "layout": {
        "height": 500,
        "legend": {
         "font": {
          "size": 20
         },
         "title": {
          "font": {
           "family": "Times New Roman"
          }
         },
         "tracegroupgap": 0,
         "y": 0.5
        },
        "margin": {
         "t": 60
        },
        "paper_bgcolor": "rgba(0, 0, 0, 0)",
        "plot_bgcolor": "rgba(0, 0, 0, 0)",
        "template": {
         "data": {
          "bar": [
           {
            "error_x": {
             "color": "#2a3f5f"
            },
            "error_y": {
             "color": "#2a3f5f"
            },
            "marker": {
             "line": {
              "color": "#E5ECF6",
              "width": 0.5
             },
             "pattern": {
              "fillmode": "overlay",
              "size": 10,
              "solidity": 0.2
             }
            },
            "type": "bar"
           }
          ],
          "barpolar": [
           {
            "marker": {
             "line": {
              "color": "#E5ECF6",
              "width": 0.5
             },
             "pattern": {
              "fillmode": "overlay",
              "size": 10,
              "solidity": 0.2
             }
            },
            "type": "barpolar"
           }
          ],
          "carpet": [
           {
            "aaxis": {
             "endlinecolor": "#2a3f5f",
             "gridcolor": "white",
             "linecolor": "white",
             "minorgridcolor": "white",
             "startlinecolor": "#2a3f5f"
            },
            "baxis": {
             "endlinecolor": "#2a3f5f",
             "gridcolor": "white",
             "linecolor": "white",
             "minorgridcolor": "white",
             "startlinecolor": "#2a3f5f"
            },
            "type": "carpet"
           }
          ],
          "choropleth": [
           {
            "colorbar": {
             "outlinewidth": 0,
             "ticks": ""
            },
            "type": "choropleth"
           }
          ],
          "contour": [
           {
            "colorbar": {
             "outlinewidth": 0,
             "ticks": ""
            },
            "colorscale": [
             [
              0,
              "#0d0887"
             ],
             [
              0.1111111111111111,
              "#46039f"
             ],
             [
              0.2222222222222222,
              "#7201a8"
             ],
             [
              0.3333333333333333,
              "#9c179e"
             ],
             [
              0.4444444444444444,
              "#bd3786"
             ],
             [
              0.5555555555555556,
              "#d8576b"
             ],
             [
              0.6666666666666666,
              "#ed7953"
             ],
             [
              0.7777777777777778,
              "#fb9f3a"
             ],
             [
              0.8888888888888888,
              "#fdca26"
             ],
             [
              1,
              "#f0f921"
             ]
            ],
            "type": "contour"
           }
          ],
          "contourcarpet": [
           {
            "colorbar": {
             "outlinewidth": 0,
             "ticks": ""
            },
            "type": "contourcarpet"
           }
          ],
          "heatmap": [
           {
            "colorbar": {
             "outlinewidth": 0,
             "ticks": ""
            },
            "colorscale": [
             [
              0,
              "#0d0887"
             ],
             [
              0.1111111111111111,
              "#46039f"
             ],
             [
              0.2222222222222222,
              "#7201a8"
             ],
             [
              0.3333333333333333,
              "#9c179e"
             ],
             [
              0.4444444444444444,
              "#bd3786"
             ],
             [
              0.5555555555555556,
              "#d8576b"
             ],
             [
              0.6666666666666666,
              "#ed7953"
             ],
             [
              0.7777777777777778,
              "#fb9f3a"
             ],
             [
              0.8888888888888888,
              "#fdca26"
             ],
             [
              1,
              "#f0f921"
             ]
            ],
            "type": "heatmap"
           }
          ],
          "heatmapgl": [
           {
            "colorbar": {
             "outlinewidth": 0,
             "ticks": ""
            },
            "colorscale": [
             [
              0,
              "#0d0887"
             ],
             [
              0.1111111111111111,
              "#46039f"
             ],
             [
              0.2222222222222222,
              "#7201a8"
             ],
             [
              0.3333333333333333,
              "#9c179e"
             ],
             [
              0.4444444444444444,
              "#bd3786"
             ],
             [
              0.5555555555555556,
              "#d8576b"
             ],
             [
              0.6666666666666666,
              "#ed7953"
             ],
             [
              0.7777777777777778,
              "#fb9f3a"
             ],
             [
              0.8888888888888888,
              "#fdca26"
             ],
             [
              1,
              "#f0f921"
             ]
            ],
            "type": "heatmapgl"
           }
          ],
          "histogram": [
           {
            "marker": {
             "pattern": {
              "fillmode": "overlay",
              "size": 10,
              "solidity": 0.2
             }
            },
            "type": "histogram"
           }
          ],
          "histogram2d": [
           {
            "colorbar": {
             "outlinewidth": 0,
             "ticks": ""
            },
            "colorscale": [
             [
              0,
              "#0d0887"
             ],
             [
              0.1111111111111111,
              "#46039f"
             ],
             [
              0.2222222222222222,
              "#7201a8"
             ],
             [
              0.3333333333333333,
              "#9c179e"
             ],
             [
              0.4444444444444444,
              "#bd3786"
             ],
             [
              0.5555555555555556,
              "#d8576b"
             ],
             [
              0.6666666666666666,
              "#ed7953"
             ],
             [
              0.7777777777777778,
              "#fb9f3a"
             ],
             [
              0.8888888888888888,
              "#fdca26"
             ],
             [
              1,
              "#f0f921"
             ]
            ],
            "type": "histogram2d"
           }
          ],
          "histogram2dcontour": [
           {
            "colorbar": {
             "outlinewidth": 0,
             "ticks": ""
            },
            "colorscale": [
             [
              0,
              "#0d0887"
             ],
             [
              0.1111111111111111,
              "#46039f"
             ],
             [
              0.2222222222222222,
              "#7201a8"
             ],
             [
              0.3333333333333333,
              "#9c179e"
             ],
             [
              0.4444444444444444,
              "#bd3786"
             ],
             [
              0.5555555555555556,
              "#d8576b"
             ],
             [
              0.6666666666666666,
              "#ed7953"
             ],
             [
              0.7777777777777778,
              "#fb9f3a"
             ],
             [
              0.8888888888888888,
              "#fdca26"
             ],
             [
              1,
              "#f0f921"
             ]
            ],
            "type": "histogram2dcontour"
           }
          ],
          "mesh3d": [
           {
            "colorbar": {
             "outlinewidth": 0,
             "ticks": ""
            },
            "type": "mesh3d"
           }
          ],
          "parcoords": [
           {
            "line": {
             "colorbar": {
              "outlinewidth": 0,
              "ticks": ""
             }
            },
            "type": "parcoords"
           }
          ],
          "pie": [
           {
            "automargin": true,
            "type": "pie"
           }
          ],
          "scatter": [
           {
            "fillpattern": {
             "fillmode": "overlay",
             "size": 10,
             "solidity": 0.2
            },
            "type": "scatter"
           }
          ],
          "scatter3d": [
           {
            "line": {
             "colorbar": {
              "outlinewidth": 0,
              "ticks": ""
             }
            },
            "marker": {
             "colorbar": {
              "outlinewidth": 0,
              "ticks": ""
             }
            },
            "type": "scatter3d"
           }
          ],
          "scattercarpet": [
           {
            "marker": {
             "colorbar": {
              "outlinewidth": 0,
              "ticks": ""
             }
            },
            "type": "scattercarpet"
           }
          ],
          "scattergeo": [
           {
            "marker": {
             "colorbar": {
              "outlinewidth": 0,
              "ticks": ""
             }
            },
            "type": "scattergeo"
           }
          ],
          "scattergl": [
           {
            "marker": {
             "colorbar": {
              "outlinewidth": 0,
              "ticks": ""
             }
            },
            "type": "scattergl"
           }
          ],
          "scattermapbox": [
           {
            "marker": {
             "colorbar": {
              "outlinewidth": 0,
              "ticks": ""
             }
            },
            "type": "scattermapbox"
           }
          ],
          "scatterpolar": [
           {
            "marker": {
             "colorbar": {
              "outlinewidth": 0,
              "ticks": ""
             }
            },
            "type": "scatterpolar"
           }
          ],
          "scatterpolargl": [
           {
            "marker": {
             "colorbar": {
              "outlinewidth": 0,
              "ticks": ""
             }
            },
            "type": "scatterpolargl"
           }
          ],
          "scatterternary": [
           {
            "marker": {
             "colorbar": {
              "outlinewidth": 0,
              "ticks": ""
             }
            },
            "type": "scatterternary"
           }
          ],
          "surface": [
           {
            "colorbar": {
             "outlinewidth": 0,
             "ticks": ""
            },
            "colorscale": [
             [
              0,
              "#0d0887"
             ],
             [
              0.1111111111111111,
              "#46039f"
             ],
             [
              0.2222222222222222,
              "#7201a8"
             ],
             [
              0.3333333333333333,
              "#9c179e"
             ],
             [
              0.4444444444444444,
              "#bd3786"
             ],
             [
              0.5555555555555556,
              "#d8576b"
             ],
             [
              0.6666666666666666,
              "#ed7953"
             ],
             [
              0.7777777777777778,
              "#fb9f3a"
             ],
             [
              0.8888888888888888,
              "#fdca26"
             ],
             [
              1,
              "#f0f921"
             ]
            ],
            "type": "surface"
           }
          ],
          "table": [
           {
            "cells": {
             "fill": {
              "color": "#EBF0F8"
             },
             "line": {
              "color": "white"
             }
            },
            "header": {
             "fill": {
              "color": "#C8D4E3"
             },
             "line": {
              "color": "white"
             }
            },
            "type": "table"
           }
          ]
         },
         "layout": {
          "annotationdefaults": {
           "arrowcolor": "#2a3f5f",
           "arrowhead": 0,
           "arrowwidth": 1
          },
          "autotypenumbers": "strict",
          "coloraxis": {
           "colorbar": {
            "outlinewidth": 0,
            "ticks": ""
           }
          },
          "colorscale": {
           "diverging": [
            [
             0,
             "#8e0152"
            ],
            [
             0.1,
             "#c51b7d"
            ],
            [
             0.2,
             "#de77ae"
            ],
            [
             0.3,
             "#f1b6da"
            ],
            [
             0.4,
             "#fde0ef"
            ],
            [
             0.5,
             "#f7f7f7"
            ],
            [
             0.6,
             "#e6f5d0"
            ],
            [
             0.7,
             "#b8e186"
            ],
            [
             0.8,
             "#7fbc41"
            ],
            [
             0.9,
             "#4d9221"
            ],
            [
             1,
             "#276419"
            ]
           ],
           "sequential": [
            [
             0,
             "#0d0887"
            ],
            [
             0.1111111111111111,
             "#46039f"
            ],
            [
             0.2222222222222222,
             "#7201a8"
            ],
            [
             0.3333333333333333,
             "#9c179e"
            ],
            [
             0.4444444444444444,
             "#bd3786"
            ],
            [
             0.5555555555555556,
             "#d8576b"
            ],
            [
             0.6666666666666666,
             "#ed7953"
            ],
            [
             0.7777777777777778,
             "#fb9f3a"
            ],
            [
             0.8888888888888888,
             "#fdca26"
            ],
            [
             1,
             "#f0f921"
            ]
           ],
           "sequentialminus": [
            [
             0,
             "#0d0887"
            ],
            [
             0.1111111111111111,
             "#46039f"
            ],
            [
             0.2222222222222222,
             "#7201a8"
            ],
            [
             0.3333333333333333,
             "#9c179e"
            ],
            [
             0.4444444444444444,
             "#bd3786"
            ],
            [
             0.5555555555555556,
             "#d8576b"
            ],
            [
             0.6666666666666666,
             "#ed7953"
            ],
            [
             0.7777777777777778,
             "#fb9f3a"
            ],
            [
             0.8888888888888888,
             "#fdca26"
            ],
            [
             1,
             "#f0f921"
            ]
           ]
          },
          "colorway": [
           "#636efa",
           "#EF553B",
           "#00cc96",
           "#ab63fa",
           "#FFA15A",
           "#19d3f3",
           "#FF6692",
           "#B6E880",
           "#FF97FF",
           "#FECB52"
          ],
          "font": {
           "color": "#2a3f5f"
          },
          "geo": {
           "bgcolor": "white",
           "lakecolor": "white",
           "landcolor": "#E5ECF6",
           "showlakes": true,
           "showland": true,
           "subunitcolor": "white"
          },
          "hoverlabel": {
           "align": "left"
          },
          "hovermode": "closest",
          "mapbox": {
           "style": "light"
          },
          "paper_bgcolor": "white",
          "plot_bgcolor": "#E5ECF6",
          "polar": {
           "angularaxis": {
            "gridcolor": "white",
            "linecolor": "white",
            "ticks": ""
           },
           "bgcolor": "#E5ECF6",
           "radialaxis": {
            "gridcolor": "white",
            "linecolor": "white",
            "ticks": ""
           }
          },
          "scene": {
           "xaxis": {
            "backgroundcolor": "#E5ECF6",
            "gridcolor": "white",
            "gridwidth": 2,
            "linecolor": "white",
            "showbackground": true,
            "ticks": "",
            "zerolinecolor": "white"
           },
           "yaxis": {
            "backgroundcolor": "#E5ECF6",
            "gridcolor": "white",
            "gridwidth": 2,
            "linecolor": "white",
            "showbackground": true,
            "ticks": "",
            "zerolinecolor": "white"
           },
           "zaxis": {
            "backgroundcolor": "#E5ECF6",
            "gridcolor": "white",
            "gridwidth": 2,
            "linecolor": "white",
            "showbackground": true,
            "ticks": "",
            "zerolinecolor": "white"
           }
          },
          "shapedefaults": {
           "line": {
            "color": "#2a3f5f"
           }
          },
          "ternary": {
           "aaxis": {
            "gridcolor": "white",
            "linecolor": "white",
            "ticks": ""
           },
           "baxis": {
            "gridcolor": "white",
            "linecolor": "white",
            "ticks": ""
           },
           "bgcolor": "#E5ECF6",
           "caxis": {
            "gridcolor": "white",
            "linecolor": "white",
            "ticks": ""
           }
          },
          "title": {
           "x": 0.05
          },
          "xaxis": {
           "automargin": true,
           "gridcolor": "white",
           "linecolor": "white",
           "ticks": "",
           "title": {
            "standoff": 15
           },
           "zerolinecolor": "white",
           "zerolinewidth": 2
          },
          "yaxis": {
           "automargin": true,
           "gridcolor": "white",
           "linecolor": "white",
           "ticks": "",
           "title": {
            "standoff": 15
           },
           "zerolinecolor": "white",
           "zerolinewidth": 2
          }
         }
        },
        "title": {
         "text": "Industry in CD 402 by DCP Macro Sector",
         "x": 0.43
        },
        "uniformtext": {
         "minsize": 20,
         "mode": "hide"
        }
       }
      }
     },
     "metadata": {},
     "output_type": "display_data"
    }
   ],
   "source": [
    "# Creating a pie chart DCP Macro Sector\n",
    "\n",
    "fig = px.pie(cd_402_wac_totals, values='WAC Total', names='DCP Macro Sector', height=500)\n",
    "fig.update_traces(direction=\"clockwise\")\n",
    "fig.update_layout(\n",
    "    {\n",
    "        \"paper_bgcolor\": \"rgba(0, 0, 0, 0)\",\n",
    "        \"plot_bgcolor\": \"rgba(0, 0, 0, 0)\",\n",
    "    })\n",
    "fig.update_layout(title_text='Industry in CD 402 by DCP Macro Sector', title_x=0.43)\n",
    "fig.update_layout(uniformtext_minsize=20, uniformtext_mode='hide')\n",
    "fig.update_layout(legend=dict(title_font_family=\"Times New Roman\", font=dict(size= 20)))\n",
    "fig.update_layout(legend=dict(y=0.5))\n",
    "fig.show()"
   ]
  },
  {
   "cell_type": "code",
   "execution_count": 244,
   "metadata": {},
   "outputs": [
    {
     "data": {
      "application/vnd.plotly.v1+json": {
       "config": {
        "plotlyServerURL": "https://plot.ly"
       },
       "data": [
        {
         "branchvalues": "total",
         "customdata": [
          [
           "Industrial"
          ],
          [
           "Industrial"
          ],
          [
           "Local Services"
          ],
          [
           "Office"
          ],
          [
           "Industrial"
          ],
          [
           "Public Administration"
          ],
          [
           "Local Services"
          ],
          [
           "Industrial"
          ],
          [
           "Institutional"
          ],
          [
           "Office"
          ],
          [
           "Industrial"
          ],
          [
           "Local Services"
          ],
          [
           "Office"
          ],
          [
           "Office"
          ],
          [
           "Industrial"
          ],
          [
           "Office"
          ],
          [
           "Institutional"
          ],
          [
           "Office"
          ],
          [
           "Industrial"
          ],
          [
           "Local Services"
          ],
          [
           "Industrial"
          ],
          [
           "Institutional"
          ],
          [
           "Local Services"
          ],
          [
           "Office"
          ],
          [
           "Public Administration"
          ]
         ],
         "domain": {
          "x": [
           0,
           1
          ],
          "y": [
           0,
           1
          ]
         },
         "hovertemplate": "labels=%{label}<br>WAC Total=%{value}<br>parent=%{parent}<br>id=%{id}<br>DCP Macro Sector=%{customdata[0]}<extra></extra>",
         "ids": [
          "Industrial/Wholesale Trade",
          "Industrial/Transportation and Warehousing",
          "Local Services/Retail Trade",
          "Office/Real Estate and Rental and Leasing",
          "Industrial/Utilities",
          "Public Administration/Public Administration",
          "Local Services/Other Services [except Public Administration]",
          "Industrial/Construction",
          "Institutional/Educational Services",
          "Office/Administrative and Support and Waste Management and Remediation Services",
          "Industrial/Agriculture, Forestry, Fishing and Hunting",
          "Local Services/Arts, Entertainment, and Recreation",
          "Office/Professional, Scientific, and Technical Services",
          "Office/Management of Companies and Enterprises",
          "Industrial/Manufacturing",
          "Office/Information",
          "Institutional/Health Care and Social Assistance",
          "Office/Finance and Insurance",
          "Industrial/Mining, Quarrying, and Oil and Gas Extraction",
          "Local Services/Accommodation and Food Services",
          "Industrial",
          "Institutional",
          "Local Services",
          "Office",
          "Public Administration"
         ],
         "labels": [
          "Wholesale Trade",
          "Transportation and Warehousing",
          "Retail Trade",
          "Real Estate and Rental and Leasing",
          "Utilities",
          "Public Administration",
          "Other Services [except Public Administration]",
          "Construction",
          "Educational Services",
          "Administrative and Support and Waste Management and Remediation Services",
          "Agriculture, Forestry, Fishing and Hunting",
          "Arts, Entertainment, and Recreation",
          "Professional, Scientific, and Technical Services",
          "Management of Companies and Enterprises",
          "Manufacturing",
          "Information",
          "Health Care and Social Assistance",
          "Finance and Insurance",
          "Mining, Quarrying, and Oil and Gas Extraction",
          "Accommodation and Food Services",
          "Industrial",
          "Institutional",
          "Local Services",
          "Office",
          "Public Administration"
         ],
         "marker": {
          "colors": [
           "#636efa",
           "#636efa",
           "#EF553B",
           "#00cc96",
           "#636efa",
           "#ab63fa",
           "#EF553B",
           "#636efa",
           "#FFA15A",
           "#00cc96",
           "#636efa",
           "#EF553B",
           "#00cc96",
           "#00cc96",
           "#636efa",
           "#00cc96",
           "#FFA15A",
           "#00cc96",
           "#636efa",
           "#EF553B",
           "#636efa",
           "#FFA15A",
           "#EF553B",
           "#00cc96",
           "#ab63fa"
          ]
         },
         "name": "",
         "parents": [
          "Industrial",
          "Industrial",
          "Local Services",
          "Office",
          "Industrial",
          "Public Administration",
          "Local Services",
          "Industrial",
          "Institutional",
          "Office",
          "Industrial",
          "Local Services",
          "Office",
          "Office",
          "Industrial",
          "Office",
          "Institutional",
          "Office",
          "Industrial",
          "Local Services",
          "",
          "",
          "",
          "",
          ""
         ],
         "type": "sunburst",
         "values": [
          4738,
          5490,
          6874,
          1656,
          13,
          12978,
          1914,
          13187,
          3804,
          14861,
          6,
          277,
          2911,
          238,
          4476,
          1334,
          6790,
          2871,
          0,
          3203,
          27910,
          10594,
          12268,
          23871,
          12978
         ]
        }
       ],
       "layout": {
        "height": 600,
        "legend": {
         "tracegroupgap": 0
        },
        "margin": {
         "t": 60
        },
        "paper_bgcolor": "rgba(0, 0, 0, 0)",
        "plot_bgcolor": "rgba(0, 0, 0, 0)",
        "template": {
         "data": {
          "bar": [
           {
            "error_x": {
             "color": "#2a3f5f"
            },
            "error_y": {
             "color": "#2a3f5f"
            },
            "marker": {
             "line": {
              "color": "#E5ECF6",
              "width": 0.5
             },
             "pattern": {
              "fillmode": "overlay",
              "size": 10,
              "solidity": 0.2
             }
            },
            "type": "bar"
           }
          ],
          "barpolar": [
           {
            "marker": {
             "line": {
              "color": "#E5ECF6",
              "width": 0.5
             },
             "pattern": {
              "fillmode": "overlay",
              "size": 10,
              "solidity": 0.2
             }
            },
            "type": "barpolar"
           }
          ],
          "carpet": [
           {
            "aaxis": {
             "endlinecolor": "#2a3f5f",
             "gridcolor": "white",
             "linecolor": "white",
             "minorgridcolor": "white",
             "startlinecolor": "#2a3f5f"
            },
            "baxis": {
             "endlinecolor": "#2a3f5f",
             "gridcolor": "white",
             "linecolor": "white",
             "minorgridcolor": "white",
             "startlinecolor": "#2a3f5f"
            },
            "type": "carpet"
           }
          ],
          "choropleth": [
           {
            "colorbar": {
             "outlinewidth": 0,
             "ticks": ""
            },
            "type": "choropleth"
           }
          ],
          "contour": [
           {
            "colorbar": {
             "outlinewidth": 0,
             "ticks": ""
            },
            "colorscale": [
             [
              0,
              "#0d0887"
             ],
             [
              0.1111111111111111,
              "#46039f"
             ],
             [
              0.2222222222222222,
              "#7201a8"
             ],
             [
              0.3333333333333333,
              "#9c179e"
             ],
             [
              0.4444444444444444,
              "#bd3786"
             ],
             [
              0.5555555555555556,
              "#d8576b"
             ],
             [
              0.6666666666666666,
              "#ed7953"
             ],
             [
              0.7777777777777778,
              "#fb9f3a"
             ],
             [
              0.8888888888888888,
              "#fdca26"
             ],
             [
              1,
              "#f0f921"
             ]
            ],
            "type": "contour"
           }
          ],
          "contourcarpet": [
           {
            "colorbar": {
             "outlinewidth": 0,
             "ticks": ""
            },
            "type": "contourcarpet"
           }
          ],
          "heatmap": [
           {
            "colorbar": {
             "outlinewidth": 0,
             "ticks": ""
            },
            "colorscale": [
             [
              0,
              "#0d0887"
             ],
             [
              0.1111111111111111,
              "#46039f"
             ],
             [
              0.2222222222222222,
              "#7201a8"
             ],
             [
              0.3333333333333333,
              "#9c179e"
             ],
             [
              0.4444444444444444,
              "#bd3786"
             ],
             [
              0.5555555555555556,
              "#d8576b"
             ],
             [
              0.6666666666666666,
              "#ed7953"
             ],
             [
              0.7777777777777778,
              "#fb9f3a"
             ],
             [
              0.8888888888888888,
              "#fdca26"
             ],
             [
              1,
              "#f0f921"
             ]
            ],
            "type": "heatmap"
           }
          ],
          "heatmapgl": [
           {
            "colorbar": {
             "outlinewidth": 0,
             "ticks": ""
            },
            "colorscale": [
             [
              0,
              "#0d0887"
             ],
             [
              0.1111111111111111,
              "#46039f"
             ],
             [
              0.2222222222222222,
              "#7201a8"
             ],
             [
              0.3333333333333333,
              "#9c179e"
             ],
             [
              0.4444444444444444,
              "#bd3786"
             ],
             [
              0.5555555555555556,
              "#d8576b"
             ],
             [
              0.6666666666666666,
              "#ed7953"
             ],
             [
              0.7777777777777778,
              "#fb9f3a"
             ],
             [
              0.8888888888888888,
              "#fdca26"
             ],
             [
              1,
              "#f0f921"
             ]
            ],
            "type": "heatmapgl"
           }
          ],
          "histogram": [
           {
            "marker": {
             "pattern": {
              "fillmode": "overlay",
              "size": 10,
              "solidity": 0.2
             }
            },
            "type": "histogram"
           }
          ],
          "histogram2d": [
           {
            "colorbar": {
             "outlinewidth": 0,
             "ticks": ""
            },
            "colorscale": [
             [
              0,
              "#0d0887"
             ],
             [
              0.1111111111111111,
              "#46039f"
             ],
             [
              0.2222222222222222,
              "#7201a8"
             ],
             [
              0.3333333333333333,
              "#9c179e"
             ],
             [
              0.4444444444444444,
              "#bd3786"
             ],
             [
              0.5555555555555556,
              "#d8576b"
             ],
             [
              0.6666666666666666,
              "#ed7953"
             ],
             [
              0.7777777777777778,
              "#fb9f3a"
             ],
             [
              0.8888888888888888,
              "#fdca26"
             ],
             [
              1,
              "#f0f921"
             ]
            ],
            "type": "histogram2d"
           }
          ],
          "histogram2dcontour": [
           {
            "colorbar": {
             "outlinewidth": 0,
             "ticks": ""
            },
            "colorscale": [
             [
              0,
              "#0d0887"
             ],
             [
              0.1111111111111111,
              "#46039f"
             ],
             [
              0.2222222222222222,
              "#7201a8"
             ],
             [
              0.3333333333333333,
              "#9c179e"
             ],
             [
              0.4444444444444444,
              "#bd3786"
             ],
             [
              0.5555555555555556,
              "#d8576b"
             ],
             [
              0.6666666666666666,
              "#ed7953"
             ],
             [
              0.7777777777777778,
              "#fb9f3a"
             ],
             [
              0.8888888888888888,
              "#fdca26"
             ],
             [
              1,
              "#f0f921"
             ]
            ],
            "type": "histogram2dcontour"
           }
          ],
          "mesh3d": [
           {
            "colorbar": {
             "outlinewidth": 0,
             "ticks": ""
            },
            "type": "mesh3d"
           }
          ],
          "parcoords": [
           {
            "line": {
             "colorbar": {
              "outlinewidth": 0,
              "ticks": ""
             }
            },
            "type": "parcoords"
           }
          ],
          "pie": [
           {
            "automargin": true,
            "type": "pie"
           }
          ],
          "scatter": [
           {
            "fillpattern": {
             "fillmode": "overlay",
             "size": 10,
             "solidity": 0.2
            },
            "type": "scatter"
           }
          ],
          "scatter3d": [
           {
            "line": {
             "colorbar": {
              "outlinewidth": 0,
              "ticks": ""
             }
            },
            "marker": {
             "colorbar": {
              "outlinewidth": 0,
              "ticks": ""
             }
            },
            "type": "scatter3d"
           }
          ],
          "scattercarpet": [
           {
            "marker": {
             "colorbar": {
              "outlinewidth": 0,
              "ticks": ""
             }
            },
            "type": "scattercarpet"
           }
          ],
          "scattergeo": [
           {
            "marker": {
             "colorbar": {
              "outlinewidth": 0,
              "ticks": ""
             }
            },
            "type": "scattergeo"
           }
          ],
          "scattergl": [
           {
            "marker": {
             "colorbar": {
              "outlinewidth": 0,
              "ticks": ""
             }
            },
            "type": "scattergl"
           }
          ],
          "scattermapbox": [
           {
            "marker": {
             "colorbar": {
              "outlinewidth": 0,
              "ticks": ""
             }
            },
            "type": "scattermapbox"
           }
          ],
          "scatterpolar": [
           {
            "marker": {
             "colorbar": {
              "outlinewidth": 0,
              "ticks": ""
             }
            },
            "type": "scatterpolar"
           }
          ],
          "scatterpolargl": [
           {
            "marker": {
             "colorbar": {
              "outlinewidth": 0,
              "ticks": ""
             }
            },
            "type": "scatterpolargl"
           }
          ],
          "scatterternary": [
           {
            "marker": {
             "colorbar": {
              "outlinewidth": 0,
              "ticks": ""
             }
            },
            "type": "scatterternary"
           }
          ],
          "surface": [
           {
            "colorbar": {
             "outlinewidth": 0,
             "ticks": ""
            },
            "colorscale": [
             [
              0,
              "#0d0887"
             ],
             [
              0.1111111111111111,
              "#46039f"
             ],
             [
              0.2222222222222222,
              "#7201a8"
             ],
             [
              0.3333333333333333,
              "#9c179e"
             ],
             [
              0.4444444444444444,
              "#bd3786"
             ],
             [
              0.5555555555555556,
              "#d8576b"
             ],
             [
              0.6666666666666666,
              "#ed7953"
             ],
             [
              0.7777777777777778,
              "#fb9f3a"
             ],
             [
              0.8888888888888888,
              "#fdca26"
             ],
             [
              1,
              "#f0f921"
             ]
            ],
            "type": "surface"
           }
          ],
          "table": [
           {
            "cells": {
             "fill": {
              "color": "#EBF0F8"
             },
             "line": {
              "color": "white"
             }
            },
            "header": {
             "fill": {
              "color": "#C8D4E3"
             },
             "line": {
              "color": "white"
             }
            },
            "type": "table"
           }
          ]
         },
         "layout": {
          "annotationdefaults": {
           "arrowcolor": "#2a3f5f",
           "arrowhead": 0,
           "arrowwidth": 1
          },
          "autotypenumbers": "strict",
          "coloraxis": {
           "colorbar": {
            "outlinewidth": 0,
            "ticks": ""
           }
          },
          "colorscale": {
           "diverging": [
            [
             0,
             "#8e0152"
            ],
            [
             0.1,
             "#c51b7d"
            ],
            [
             0.2,
             "#de77ae"
            ],
            [
             0.3,
             "#f1b6da"
            ],
            [
             0.4,
             "#fde0ef"
            ],
            [
             0.5,
             "#f7f7f7"
            ],
            [
             0.6,
             "#e6f5d0"
            ],
            [
             0.7,
             "#b8e186"
            ],
            [
             0.8,
             "#7fbc41"
            ],
            [
             0.9,
             "#4d9221"
            ],
            [
             1,
             "#276419"
            ]
           ],
           "sequential": [
            [
             0,
             "#0d0887"
            ],
            [
             0.1111111111111111,
             "#46039f"
            ],
            [
             0.2222222222222222,
             "#7201a8"
            ],
            [
             0.3333333333333333,
             "#9c179e"
            ],
            [
             0.4444444444444444,
             "#bd3786"
            ],
            [
             0.5555555555555556,
             "#d8576b"
            ],
            [
             0.6666666666666666,
             "#ed7953"
            ],
            [
             0.7777777777777778,
             "#fb9f3a"
            ],
            [
             0.8888888888888888,
             "#fdca26"
            ],
            [
             1,
             "#f0f921"
            ]
           ],
           "sequentialminus": [
            [
             0,
             "#0d0887"
            ],
            [
             0.1111111111111111,
             "#46039f"
            ],
            [
             0.2222222222222222,
             "#7201a8"
            ],
            [
             0.3333333333333333,
             "#9c179e"
            ],
            [
             0.4444444444444444,
             "#bd3786"
            ],
            [
             0.5555555555555556,
             "#d8576b"
            ],
            [
             0.6666666666666666,
             "#ed7953"
            ],
            [
             0.7777777777777778,
             "#fb9f3a"
            ],
            [
             0.8888888888888888,
             "#fdca26"
            ],
            [
             1,
             "#f0f921"
            ]
           ]
          },
          "colorway": [
           "#636efa",
           "#EF553B",
           "#00cc96",
           "#ab63fa",
           "#FFA15A",
           "#19d3f3",
           "#FF6692",
           "#B6E880",
           "#FF97FF",
           "#FECB52"
          ],
          "font": {
           "color": "#2a3f5f"
          },
          "geo": {
           "bgcolor": "white",
           "lakecolor": "white",
           "landcolor": "#E5ECF6",
           "showlakes": true,
           "showland": true,
           "subunitcolor": "white"
          },
          "hoverlabel": {
           "align": "left"
          },
          "hovermode": "closest",
          "mapbox": {
           "style": "light"
          },
          "paper_bgcolor": "white",
          "plot_bgcolor": "#E5ECF6",
          "polar": {
           "angularaxis": {
            "gridcolor": "white",
            "linecolor": "white",
            "ticks": ""
           },
           "bgcolor": "#E5ECF6",
           "radialaxis": {
            "gridcolor": "white",
            "linecolor": "white",
            "ticks": ""
           }
          },
          "scene": {
           "xaxis": {
            "backgroundcolor": "#E5ECF6",
            "gridcolor": "white",
            "gridwidth": 2,
            "linecolor": "white",
            "showbackground": true,
            "ticks": "",
            "zerolinecolor": "white"
           },
           "yaxis": {
            "backgroundcolor": "#E5ECF6",
            "gridcolor": "white",
            "gridwidth": 2,
            "linecolor": "white",
            "showbackground": true,
            "ticks": "",
            "zerolinecolor": "white"
           },
           "zaxis": {
            "backgroundcolor": "#E5ECF6",
            "gridcolor": "white",
            "gridwidth": 2,
            "linecolor": "white",
            "showbackground": true,
            "ticks": "",
            "zerolinecolor": "white"
           }
          },
          "shapedefaults": {
           "line": {
            "color": "#2a3f5f"
           }
          },
          "ternary": {
           "aaxis": {
            "gridcolor": "white",
            "linecolor": "white",
            "ticks": ""
           },
           "baxis": {
            "gridcolor": "white",
            "linecolor": "white",
            "ticks": ""
           },
           "bgcolor": "#E5ECF6",
           "caxis": {
            "gridcolor": "white",
            "linecolor": "white",
            "ticks": ""
           }
          },
          "title": {
           "x": 0.05
          },
          "xaxis": {
           "automargin": true,
           "gridcolor": "white",
           "linecolor": "white",
           "ticks": "",
           "title": {
            "standoff": 15
           },
           "zerolinecolor": "white",
           "zerolinewidth": 2
          },
          "yaxis": {
           "automargin": true,
           "gridcolor": "white",
           "linecolor": "white",
           "ticks": "",
           "title": {
            "standoff": 15
           },
           "zerolinecolor": "white",
           "zerolinewidth": 2
          }
         }
        },
        "title": {
         "text": "DCP Macro Sector and NAICS Title",
         "x": 0.5
        },
        "uniformtext": {
         "minsize": 20
        }
       }
      }
     },
     "metadata": {},
     "output_type": "display_data"
    }
   ],
   "source": [
    "# Creating a sunburst chart for DCP Macro Sector and NAICS Title\n",
    "\n",
    "fig = px.sunburst(cd_402_wac_totals, path=['DCP Macro Sector', 'NAICS Title'], values='WAC Total',\n",
    "                  color='DCP Macro Sector', height=600)\n",
    "fig.update_layout(\n",
    "    {\n",
    "        \"paper_bgcolor\": \"rgba(0, 0, 0, 0)\",\n",
    "        \"plot_bgcolor\": \"rgba(0, 0, 0, 0)\",\n",
    "    })\n",
    "fig.update_layout(title_text='DCP Macro Sector and NAICS Title', title_x=0.5)\n",
    "fig.update_layout(uniformtext_minsize=20)\n",
    "fig.show()"
   ]
  },
  {
   "cell_type": "code",
   "execution_count": 193,
   "metadata": {},
   "outputs": [
    {
     "data": {
      "application/vnd.plotly.v1+json": {
       "config": {
        "plotlyServerURL": "https://plot.ly"
       },
       "data": [
        {
         "branchvalues": "total",
         "customdata": [
          [
           "Industrial"
          ],
          [
           "Industrial"
          ],
          [
           "Local Services"
          ],
          [
           "Office"
          ],
          [
           "Industrial"
          ],
          [
           "Public Administration"
          ],
          [
           "Local Services"
          ],
          [
           "Industrial"
          ],
          [
           "Institutional"
          ],
          [
           "Office"
          ],
          [
           "Industrial"
          ],
          [
           "Local Services"
          ],
          [
           "Office"
          ],
          [
           "Office"
          ],
          [
           "Industrial"
          ],
          [
           "Office"
          ],
          [
           "Institutional"
          ],
          [
           "Office"
          ],
          [
           "Industrial"
          ],
          [
           "Local Services"
          ],
          [
           "Industrial"
          ],
          [
           "Institutional"
          ],
          [
           "Local Services"
          ],
          [
           "Office"
          ],
          [
           "Public Administration"
          ]
         ],
         "domain": {
          "x": [
           0,
           1
          ],
          "y": [
           0,
           1
          ]
         },
         "hovertemplate": "labels=%{label}<br>WAC Total=%{value}<br>parent=%{parent}<br>id=%{id}<br>DCP Macro Sector=%{customdata[0]}<extra></extra>",
         "ids": [
          "Industrial/Wholesale Trade",
          "Industrial/Transportation and Warehousing",
          "Local Services/Retail Trade",
          "Office/Real Estate and Rental and Leasing",
          "Industrial/Utilities",
          "Public Administration/Public Administration",
          "Local Services/Other Services [except Public Administration]",
          "Industrial/Construction",
          "Institutional/Educational Services",
          "Office/Administrative and Support and Waste Management and Remediation Services",
          "Industrial/Agriculture, Forestry, Fishing and Hunting",
          "Local Services/Arts, Entertainment, and Recreation",
          "Office/Professional, Scientific, and Technical Services",
          "Office/Management of Companies and Enterprises",
          "Industrial/Manufacturing",
          "Office/Information",
          "Institutional/Health Care and Social Assistance",
          "Office/Finance and Insurance",
          "Industrial/Mining, Quarrying, and Oil and Gas Extraction",
          "Local Services/Accommodation and Food Services",
          "Industrial",
          "Institutional",
          "Local Services",
          "Office",
          "Public Administration"
         ],
         "labels": [
          "Wholesale Trade",
          "Transportation and Warehousing",
          "Retail Trade",
          "Real Estate and Rental and Leasing",
          "Utilities",
          "Public Administration",
          "Other Services [except Public Administration]",
          "Construction",
          "Educational Services",
          "Administrative and Support and Waste Management and Remediation Services",
          "Agriculture, Forestry, Fishing and Hunting",
          "Arts, Entertainment, and Recreation",
          "Professional, Scientific, and Technical Services",
          "Management of Companies and Enterprises",
          "Manufacturing",
          "Information",
          "Health Care and Social Assistance",
          "Finance and Insurance",
          "Mining, Quarrying, and Oil and Gas Extraction",
          "Accommodation and Food Services",
          "Industrial",
          "Institutional",
          "Local Services",
          "Office",
          "Public Administration"
         ],
         "marker": {
          "colors": [
           "#636efa",
           "#636efa",
           "#EF553B",
           "#00cc96",
           "#636efa",
           "#ab63fa",
           "#EF553B",
           "#636efa",
           "#FFA15A",
           "#00cc96",
           "#636efa",
           "#EF553B",
           "#00cc96",
           "#00cc96",
           "#636efa",
           "#00cc96",
           "#FFA15A",
           "#00cc96",
           "#636efa",
           "#EF553B",
           "#636efa",
           "#FFA15A",
           "#EF553B",
           "#00cc96",
           "#ab63fa"
          ]
         },
         "name": "",
         "parents": [
          "Industrial",
          "Industrial",
          "Local Services",
          "Office",
          "Industrial",
          "Public Administration",
          "Local Services",
          "Industrial",
          "Institutional",
          "Office",
          "Industrial",
          "Local Services",
          "Office",
          "Office",
          "Industrial",
          "Office",
          "Institutional",
          "Office",
          "Industrial",
          "Local Services",
          "",
          "",
          "",
          "",
          ""
         ],
         "type": "treemap",
         "values": [
          4738,
          5490,
          6874,
          1656,
          13,
          12978,
          1914,
          13187,
          3804,
          14861,
          6,
          277,
          2911,
          238,
          4476,
          1334,
          6790,
          2871,
          0,
          3203,
          27910,
          10594,
          12268,
          23871,
          12978
         ]
        }
       ],
       "layout": {
        "height": 600,
        "legend": {
         "tracegroupgap": 0
        },
        "paper_bgcolor": "rgba(0, 0, 0, 0)",
        "plot_bgcolor": "rgba(0, 0, 0, 0)",
        "template": {
         "data": {
          "bar": [
           {
            "error_x": {
             "color": "#2a3f5f"
            },
            "error_y": {
             "color": "#2a3f5f"
            },
            "marker": {
             "line": {
              "color": "#E5ECF6",
              "width": 0.5
             },
             "pattern": {
              "fillmode": "overlay",
              "size": 10,
              "solidity": 0.2
             }
            },
            "type": "bar"
           }
          ],
          "barpolar": [
           {
            "marker": {
             "line": {
              "color": "#E5ECF6",
              "width": 0.5
             },
             "pattern": {
              "fillmode": "overlay",
              "size": 10,
              "solidity": 0.2
             }
            },
            "type": "barpolar"
           }
          ],
          "carpet": [
           {
            "aaxis": {
             "endlinecolor": "#2a3f5f",
             "gridcolor": "white",
             "linecolor": "white",
             "minorgridcolor": "white",
             "startlinecolor": "#2a3f5f"
            },
            "baxis": {
             "endlinecolor": "#2a3f5f",
             "gridcolor": "white",
             "linecolor": "white",
             "minorgridcolor": "white",
             "startlinecolor": "#2a3f5f"
            },
            "type": "carpet"
           }
          ],
          "choropleth": [
           {
            "colorbar": {
             "outlinewidth": 0,
             "ticks": ""
            },
            "type": "choropleth"
           }
          ],
          "contour": [
           {
            "colorbar": {
             "outlinewidth": 0,
             "ticks": ""
            },
            "colorscale": [
             [
              0,
              "#0d0887"
             ],
             [
              0.1111111111111111,
              "#46039f"
             ],
             [
              0.2222222222222222,
              "#7201a8"
             ],
             [
              0.3333333333333333,
              "#9c179e"
             ],
             [
              0.4444444444444444,
              "#bd3786"
             ],
             [
              0.5555555555555556,
              "#d8576b"
             ],
             [
              0.6666666666666666,
              "#ed7953"
             ],
             [
              0.7777777777777778,
              "#fb9f3a"
             ],
             [
              0.8888888888888888,
              "#fdca26"
             ],
             [
              1,
              "#f0f921"
             ]
            ],
            "type": "contour"
           }
          ],
          "contourcarpet": [
           {
            "colorbar": {
             "outlinewidth": 0,
             "ticks": ""
            },
            "type": "contourcarpet"
           }
          ],
          "heatmap": [
           {
            "colorbar": {
             "outlinewidth": 0,
             "ticks": ""
            },
            "colorscale": [
             [
              0,
              "#0d0887"
             ],
             [
              0.1111111111111111,
              "#46039f"
             ],
             [
              0.2222222222222222,
              "#7201a8"
             ],
             [
              0.3333333333333333,
              "#9c179e"
             ],
             [
              0.4444444444444444,
              "#bd3786"
             ],
             [
              0.5555555555555556,
              "#d8576b"
             ],
             [
              0.6666666666666666,
              "#ed7953"
             ],
             [
              0.7777777777777778,
              "#fb9f3a"
             ],
             [
              0.8888888888888888,
              "#fdca26"
             ],
             [
              1,
              "#f0f921"
             ]
            ],
            "type": "heatmap"
           }
          ],
          "heatmapgl": [
           {
            "colorbar": {
             "outlinewidth": 0,
             "ticks": ""
            },
            "colorscale": [
             [
              0,
              "#0d0887"
             ],
             [
              0.1111111111111111,
              "#46039f"
             ],
             [
              0.2222222222222222,
              "#7201a8"
             ],
             [
              0.3333333333333333,
              "#9c179e"
             ],
             [
              0.4444444444444444,
              "#bd3786"
             ],
             [
              0.5555555555555556,
              "#d8576b"
             ],
             [
              0.6666666666666666,
              "#ed7953"
             ],
             [
              0.7777777777777778,
              "#fb9f3a"
             ],
             [
              0.8888888888888888,
              "#fdca26"
             ],
             [
              1,
              "#f0f921"
             ]
            ],
            "type": "heatmapgl"
           }
          ],
          "histogram": [
           {
            "marker": {
             "pattern": {
              "fillmode": "overlay",
              "size": 10,
              "solidity": 0.2
             }
            },
            "type": "histogram"
           }
          ],
          "histogram2d": [
           {
            "colorbar": {
             "outlinewidth": 0,
             "ticks": ""
            },
            "colorscale": [
             [
              0,
              "#0d0887"
             ],
             [
              0.1111111111111111,
              "#46039f"
             ],
             [
              0.2222222222222222,
              "#7201a8"
             ],
             [
              0.3333333333333333,
              "#9c179e"
             ],
             [
              0.4444444444444444,
              "#bd3786"
             ],
             [
              0.5555555555555556,
              "#d8576b"
             ],
             [
              0.6666666666666666,
              "#ed7953"
             ],
             [
              0.7777777777777778,
              "#fb9f3a"
             ],
             [
              0.8888888888888888,
              "#fdca26"
             ],
             [
              1,
              "#f0f921"
             ]
            ],
            "type": "histogram2d"
           }
          ],
          "histogram2dcontour": [
           {
            "colorbar": {
             "outlinewidth": 0,
             "ticks": ""
            },
            "colorscale": [
             [
              0,
              "#0d0887"
             ],
             [
              0.1111111111111111,
              "#46039f"
             ],
             [
              0.2222222222222222,
              "#7201a8"
             ],
             [
              0.3333333333333333,
              "#9c179e"
             ],
             [
              0.4444444444444444,
              "#bd3786"
             ],
             [
              0.5555555555555556,
              "#d8576b"
             ],
             [
              0.6666666666666666,
              "#ed7953"
             ],
             [
              0.7777777777777778,
              "#fb9f3a"
             ],
             [
              0.8888888888888888,
              "#fdca26"
             ],
             [
              1,
              "#f0f921"
             ]
            ],
            "type": "histogram2dcontour"
           }
          ],
          "mesh3d": [
           {
            "colorbar": {
             "outlinewidth": 0,
             "ticks": ""
            },
            "type": "mesh3d"
           }
          ],
          "parcoords": [
           {
            "line": {
             "colorbar": {
              "outlinewidth": 0,
              "ticks": ""
             }
            },
            "type": "parcoords"
           }
          ],
          "pie": [
           {
            "automargin": true,
            "type": "pie"
           }
          ],
          "scatter": [
           {
            "fillpattern": {
             "fillmode": "overlay",
             "size": 10,
             "solidity": 0.2
            },
            "type": "scatter"
           }
          ],
          "scatter3d": [
           {
            "line": {
             "colorbar": {
              "outlinewidth": 0,
              "ticks": ""
             }
            },
            "marker": {
             "colorbar": {
              "outlinewidth": 0,
              "ticks": ""
             }
            },
            "type": "scatter3d"
           }
          ],
          "scattercarpet": [
           {
            "marker": {
             "colorbar": {
              "outlinewidth": 0,
              "ticks": ""
             }
            },
            "type": "scattercarpet"
           }
          ],
          "scattergeo": [
           {
            "marker": {
             "colorbar": {
              "outlinewidth": 0,
              "ticks": ""
             }
            },
            "type": "scattergeo"
           }
          ],
          "scattergl": [
           {
            "marker": {
             "colorbar": {
              "outlinewidth": 0,
              "ticks": ""
             }
            },
            "type": "scattergl"
           }
          ],
          "scattermapbox": [
           {
            "marker": {
             "colorbar": {
              "outlinewidth": 0,
              "ticks": ""
             }
            },
            "type": "scattermapbox"
           }
          ],
          "scatterpolar": [
           {
            "marker": {
             "colorbar": {
              "outlinewidth": 0,
              "ticks": ""
             }
            },
            "type": "scatterpolar"
           }
          ],
          "scatterpolargl": [
           {
            "marker": {
             "colorbar": {
              "outlinewidth": 0,
              "ticks": ""
             }
            },
            "type": "scatterpolargl"
           }
          ],
          "scatterternary": [
           {
            "marker": {
             "colorbar": {
              "outlinewidth": 0,
              "ticks": ""
             }
            },
            "type": "scatterternary"
           }
          ],
          "surface": [
           {
            "colorbar": {
             "outlinewidth": 0,
             "ticks": ""
            },
            "colorscale": [
             [
              0,
              "#0d0887"
             ],
             [
              0.1111111111111111,
              "#46039f"
             ],
             [
              0.2222222222222222,
              "#7201a8"
             ],
             [
              0.3333333333333333,
              "#9c179e"
             ],
             [
              0.4444444444444444,
              "#bd3786"
             ],
             [
              0.5555555555555556,
              "#d8576b"
             ],
             [
              0.6666666666666666,
              "#ed7953"
             ],
             [
              0.7777777777777778,
              "#fb9f3a"
             ],
             [
              0.8888888888888888,
              "#fdca26"
             ],
             [
              1,
              "#f0f921"
             ]
            ],
            "type": "surface"
           }
          ],
          "table": [
           {
            "cells": {
             "fill": {
              "color": "#EBF0F8"
             },
             "line": {
              "color": "white"
             }
            },
            "header": {
             "fill": {
              "color": "#C8D4E3"
             },
             "line": {
              "color": "white"
             }
            },
            "type": "table"
           }
          ]
         },
         "layout": {
          "annotationdefaults": {
           "arrowcolor": "#2a3f5f",
           "arrowhead": 0,
           "arrowwidth": 1
          },
          "autotypenumbers": "strict",
          "coloraxis": {
           "colorbar": {
            "outlinewidth": 0,
            "ticks": ""
           }
          },
          "colorscale": {
           "diverging": [
            [
             0,
             "#8e0152"
            ],
            [
             0.1,
             "#c51b7d"
            ],
            [
             0.2,
             "#de77ae"
            ],
            [
             0.3,
             "#f1b6da"
            ],
            [
             0.4,
             "#fde0ef"
            ],
            [
             0.5,
             "#f7f7f7"
            ],
            [
             0.6,
             "#e6f5d0"
            ],
            [
             0.7,
             "#b8e186"
            ],
            [
             0.8,
             "#7fbc41"
            ],
            [
             0.9,
             "#4d9221"
            ],
            [
             1,
             "#276419"
            ]
           ],
           "sequential": [
            [
             0,
             "#0d0887"
            ],
            [
             0.1111111111111111,
             "#46039f"
            ],
            [
             0.2222222222222222,
             "#7201a8"
            ],
            [
             0.3333333333333333,
             "#9c179e"
            ],
            [
             0.4444444444444444,
             "#bd3786"
            ],
            [
             0.5555555555555556,
             "#d8576b"
            ],
            [
             0.6666666666666666,
             "#ed7953"
            ],
            [
             0.7777777777777778,
             "#fb9f3a"
            ],
            [
             0.8888888888888888,
             "#fdca26"
            ],
            [
             1,
             "#f0f921"
            ]
           ],
           "sequentialminus": [
            [
             0,
             "#0d0887"
            ],
            [
             0.1111111111111111,
             "#46039f"
            ],
            [
             0.2222222222222222,
             "#7201a8"
            ],
            [
             0.3333333333333333,
             "#9c179e"
            ],
            [
             0.4444444444444444,
             "#bd3786"
            ],
            [
             0.5555555555555556,
             "#d8576b"
            ],
            [
             0.6666666666666666,
             "#ed7953"
            ],
            [
             0.7777777777777778,
             "#fb9f3a"
            ],
            [
             0.8888888888888888,
             "#fdca26"
            ],
            [
             1,
             "#f0f921"
            ]
           ]
          },
          "colorway": [
           "#636efa",
           "#EF553B",
           "#00cc96",
           "#ab63fa",
           "#FFA15A",
           "#19d3f3",
           "#FF6692",
           "#B6E880",
           "#FF97FF",
           "#FECB52"
          ],
          "font": {
           "color": "#2a3f5f"
          },
          "geo": {
           "bgcolor": "white",
           "lakecolor": "white",
           "landcolor": "#E5ECF6",
           "showlakes": true,
           "showland": true,
           "subunitcolor": "white"
          },
          "hoverlabel": {
           "align": "left"
          },
          "hovermode": "closest",
          "mapbox": {
           "style": "light"
          },
          "paper_bgcolor": "white",
          "plot_bgcolor": "#E5ECF6",
          "polar": {
           "angularaxis": {
            "gridcolor": "white",
            "linecolor": "white",
            "ticks": ""
           },
           "bgcolor": "#E5ECF6",
           "radialaxis": {
            "gridcolor": "white",
            "linecolor": "white",
            "ticks": ""
           }
          },
          "scene": {
           "xaxis": {
            "backgroundcolor": "#E5ECF6",
            "gridcolor": "white",
            "gridwidth": 2,
            "linecolor": "white",
            "showbackground": true,
            "ticks": "",
            "zerolinecolor": "white"
           },
           "yaxis": {
            "backgroundcolor": "#E5ECF6",
            "gridcolor": "white",
            "gridwidth": 2,
            "linecolor": "white",
            "showbackground": true,
            "ticks": "",
            "zerolinecolor": "white"
           },
           "zaxis": {
            "backgroundcolor": "#E5ECF6",
            "gridcolor": "white",
            "gridwidth": 2,
            "linecolor": "white",
            "showbackground": true,
            "ticks": "",
            "zerolinecolor": "white"
           }
          },
          "shapedefaults": {
           "line": {
            "color": "#2a3f5f"
           }
          },
          "ternary": {
           "aaxis": {
            "gridcolor": "white",
            "linecolor": "white",
            "ticks": ""
           },
           "baxis": {
            "gridcolor": "white",
            "linecolor": "white",
            "ticks": ""
           },
           "bgcolor": "#E5ECF6",
           "caxis": {
            "gridcolor": "white",
            "linecolor": "white",
            "ticks": ""
           }
          },
          "title": {
           "x": 0.05
          },
          "xaxis": {
           "automargin": true,
           "gridcolor": "white",
           "linecolor": "white",
           "ticks": "",
           "title": {
            "standoff": 15
           },
           "zerolinecolor": "white",
           "zerolinewidth": 2
          },
          "yaxis": {
           "automargin": true,
           "gridcolor": "white",
           "linecolor": "white",
           "ticks": "",
           "title": {
            "standoff": 15
           },
           "zerolinecolor": "white",
           "zerolinewidth": 2
          }
         }
        },
        "title": {
         "text": "DCP Macro Sector by NAICS Industry"
        },
        "uniformtext": {
         "minsize": 20
        }
       }
      }
     },
     "metadata": {},
     "output_type": "display_data"
    }
   ],
   "source": [
    "# Creating a treemap of DCP Macro Sector and NAICS Title\n",
    "\n",
    "fig = px.treemap(cd_402_wac_totals, path=['DCP Macro Sector', 'NAICS Title'], values='WAC Total',\n",
    "                  color='DCP Macro Sector', title='DCP Macro Sector by NAICS Industry', height=600)\n",
    "fig.update_layout(uniformtext_minsize=20)\n",
    "fig.update_layout(\n",
    "    {\n",
    "        \"paper_bgcolor\": \"rgba(0, 0, 0, 0)\",\n",
    "        \"plot_bgcolor\": \"rgba(0, 0, 0, 0)\",\n",
    "    })\n",
    "fig.show()"
   ]
  },
  {
   "cell_type": "code",
   "execution_count": 238,
   "metadata": {},
   "outputs": [
    {
     "data": {
      "image/png": "[encoded data removed]",
      "text/plain": [
       "<Figure size 640x480 with 2 Axes>"
      ]
     },
     "metadata": {},
     "output_type": "display_data"
    },
    {
     "data": {
      "image/png": "[encoded data removed]",
      "text/plain": [
       "<Figure size 640x480 with 2 Axes>"
      ]
     },
     "metadata": {},
     "output_type": "display_data"
    },
    {
     "data": {
      "image/png": "[encoded data removed]",
      "text/plain": [
       "<Figure size 640x480 with 2 Axes>"
      ]
     },
     "metadata": {},
     "output_type": "display_data"
    },
    {
     "data": {
      "image/png": "[encoded data removed]",
      "text/plain": [
       "<Figure size 640x480 with 2 Axes>"
      ]
     },
     "metadata": {},
     "output_type": "display_data"
    },
    {
     "data": {
      "image/png": "[encoded data removed]",
      "text/plain": [
       "<Figure size 640x480 with 2 Axes>"
      ]
     },
     "metadata": {},
     "output_type": "display_data"
    }
   ],
   "source": [
    "# Creating choropleth maps of CD402 by the top five industries: Administrative Support, Construction, Public Administration, Retail Trade, and Health Care\n",
    "\n",
    "ax = cd_402_wac.plot(column = 'CNS14', \n",
    "                     legend = True, \n",
    "                     cmap = 'PuRd',\n",
    "                     legend_kwds={\"label\": \"Number of Administrative and Support and ... Jobs in CD 402 (14,861)\", \"orientation\": \"horizontal\"},)\n",
    "ax.set_axis_off();\n",
    "\n",
    "ax = cd_402_wac.plot(column = 'CNS04', \n",
    "                     legend = True, \n",
    "                     cmap = 'PuRd',\n",
    "                     legend_kwds={\"label\": \"Number of Construction Jobs in CD 402 (13,187)\", \"orientation\": \"horizontal\"},)\n",
    "ax.set_axis_off();\n",
    "\n",
    "ax = cd_402_wac.plot(column = 'CNS20', \n",
    "                     legend = True, \n",
    "                     cmap = 'PuRd',\n",
    "                     legend_kwds={\"label\": \"Number of Public Administration Jobs in CD 402 (12,978)\", \"orientation\": \"horizontal\"},)\n",
    "ax.set_axis_off();\n",
    "\n",
    "ax = cd_402_wac.plot(column = 'CNS07', \n",
    "                     legend = True, \n",
    "                     cmap = 'PuRd',\n",
    "                     legend_kwds={\"label\": \"Number of Retail Trade Jobs in CD 402 (6,874)\", \"orientation\": \"horizontal\"},)\n",
    "ax.set_axis_off();\n",
    "\n",
    "ax = cd_402_wac.plot(column = 'CNS16', \n",
    "                     legend = True, \n",
    "                     cmap = 'PuRd',\n",
    "                     legend_kwds={\"label\": \"Number of Health Care and Social Assistance Jobs in CD 402 (6,790)\", \"orientation\": \"horizontal\"},)\n",
    "ax.set_axis_off();"
   ]
  },
  {
   "cell_type": "code",
   "execution_count": 156,
   "metadata": {},
   "outputs": [],
   "source": [
    "# Exploring additional insights from the original WAC dataframe\n",
    "# Merging the CD402 GeodataFrame data with the total WAC dataframe.\n",
    "cd_402_all = pd.merge(cd_402, df_total, how=\"left\", on='GEOID')"
   ]
  },
  {
   "cell_type": "code",
   "execution_count": 157,
   "metadata": {},
   "outputs": [],
   "source": [
    "# Same process as before: Calculating the sum of each column in the dataframe ‘cd_402_all’ using the .sum() function\n",
    "# Storing the results in a new dataframe called ‘cd_402_wac_totals_full_dataset’ \n",
    "# Creating two columns: ‘WAC Code’ (the index) and ‘WAC Total’ (the sums)\n",
    "\n",
    "cd_402_wac_totals_full_dataset = cd_402_all[['C000','CA01','CA02','CA03','CE01','CE02','CE03',\n",
    "                                             'CNS01','CNS02','CNS03','CNS04','CNS05','CNS06',\n",
    "                                             'CNS07','CNS08','CNS09','CNS10','CNS11','CNS12',\n",
    "                                             'CNS13','CNS14','CNS15','CNS16','CNS17','CNS18',\n",
    "                                             'CNS19','CNS20','CR01','CR02','CR03','CR04','CR05',\n",
    "                                             'CR07','CT01','CT02','CD01','CD02','CD03','CD04',\n",
    "                                             'CS01','CS02','CFA01','CFA02','CFA03','CFA04','CFA05',\n",
    "                                             'CFS01','CFS02','CFS03','CFS04','CFS05']].sum()\n",
    "\n",
    "cd_402_wac_totals_full_dataset = pd.DataFrame({\n",
    "    'WAC Code': cd_402_wac_totals_full_dataset.index,\n",
    "    'WAC Total': cd_402_wac_totals_full_dataset.values})"
   ]
  },
  {
   "cell_type": "code",
   "execution_count": 158,
   "metadata": {},
   "outputs": [],
   "source": [
    "# Creating a similar dictionary as before, but for WAC code explanation\n",
    "\n",
    "wac_title_dict = {'C000':'Total number of jobs',\n",
    "                         'CA01':'Number of jobs for workers age 29 or younger',\n",
    "                         'CA02':'Number of jobs for workers age 30 to 54',\n",
    "                         'CA03':'Number of jobs for workers age 55 or older',\n",
    "                         'CE01':'Number of jobs with earnings $1250/month or less',\n",
    "                         'CE02':'Number of jobs with earnings $1251/month to $3333/month',\n",
    "                         'CE03':'Number of jobs with earnings greater than $3333/month',\n",
    "                         'CNS01':'Number of jobs in NAICS sector 11 (Agriculture, Forestry, Fishing and Hunting)',\n",
    "                         'CNS02':'Number of jobs in NAICS sector 21 (Mining, Quarrying, and Oil and Gas Extraction)',\n",
    "                         'CNS03':'Number of jobs in NAICS sector 22 (Utilities)',\n",
    "                         'CNS04':'Number of jobs in NAICS sector 23 (Construction)',\n",
    "                         'CNS05':'Number of jobs in NAICS sector 31-33 (Manufacturing)',\n",
    "                         'CNS06':'Number of jobs in NAICS sector 42 (Wholesale Trade)',\n",
    "                         'CNS07':'Number of jobs in NAICS sector 44-45 (Retail Trade)',\n",
    "                         'CNS08':'Number of jobs in NAICS sector 48-49 (Transportation and Warehousing)',\n",
    "                         'CNS09':'Number of jobs in NAICS sector 51 (Information)',\n",
    "                         'CNS10':'Number of jobs in NAICS sector 52 (Finance and Insurance)',\n",
    "                         'CNS11':'Number of jobs in NAICS sector 53 (Real Estate and Rental and Leasing)',\n",
    "                         'CNS12':'Number of jobs in NAICS sector 54 (Professional, Scientific, and Technical Services)',\n",
    "                         'CNS13':'Number of jobs in NAICS sector 55 (Management of Companies and Enterprises)',\n",
    "                         'CNS14':'Number of jobs in NAICS sector 56 (Administrative and Support and Waste Management and Remediation Services)',\n",
    "                         'CNS15':'Number of jobs in NAICS sector 61 (Educational Services)',\n",
    "                         'CNS16':'Number of jobs in NAICS sector 62 (Health Care and Social Assistance)',\n",
    "                         'CNS17':'Number of jobs in NAICS sector 71 (Arts, Entertainment, and Recreation)',\n",
    "                         'CNS18':'Number of jobs in NAICS sector 72 (Accommodation and Food Services)',\n",
    "                         'CNS19':'Number of jobs in NAICS sector 81 (Other Services [except Public Administration])',\n",
    "                         'CNS20':'Number of jobs in NAICS sector 92 (Public Administration)',\n",
    "                         'CR01':'Number of jobs for workers with Race: White, Alone',\n",
    "                         'CR02':'Number of jobs for workers with Race: Black or African American Alone',\n",
    "                         'CR03':'Number of jobs for workers with Race: American Indian or Alaska Native Alone',\n",
    "                         'CR04':'Number of jobs for workers with Race: Asian Alone',\n",
    "                         'CR05':'Number of jobs for workers with Race: Native Hawaiian or Other Pacific Islander Alone',\n",
    "                         'CR07':'Number of jobs for workers with Race: Two or More Race Groups',\n",
    "                         'CT01':'Number of jobs for workers with Ethnicity: Not Hispanic or Latino',\n",
    "                         'CT02':'Number of jobs for workers with Ethnicity: Hispanic or Latino',\n",
    "                         'CD01':'Number of jobs for workers with Educational Attainment: Less than high school',\n",
    "                         'CD02':'Number of jobs for workers with Educational Attainment: High school or equivalent, no college',\n",
    "                         'CD03':'Number of jobs for workers with Educational Attainment: Some college or Associate degree',\n",
    "                         'CD04':'Number of jobs for workers with Educational Attainment: Bachelors degree or advanced degree1',\n",
    "                         'CS01':'Number of jobs for workers with Sex: Male',\n",
    "                         'CS02':'Number of jobs for workers with Sex: Female',\n",
    "                         'CFA01':'Number of jobs for workers at firms with Firm Age: 0-1 Years',\n",
    "                         'CFA02':'Number of jobs for workers at firms with Firm Age: 2-3 Years',\n",
    "                         'CFA03':'Number of jobs for workers at firms with Firm Age: 4-5 Years',\n",
    "                         'CFA04':'Number of jobs for workers at firms with Firm Age: 6-10 Years1',\n",
    "                         'CFA05':'Number of jobs for workers at firms with Firm Age: 11+ Years',\n",
    "                         'CFS01':'Number of jobs for workers at firms with Firm Size: 0-19 Employees',\n",
    "                         'CFS02':'Number of jobs for workers at firms with Firm Size: 20-49 Employees',\n",
    "                         'CFS03':'Number of jobs for workers at firms with Firm Size: 50-249 Employees',\n",
    "                         'CFS04':'Number of jobs for workers at firms with Firm Size: 250-499 Employees',\n",
    "                         'CFS05':'Number of jobs for workers at firms with Firm Size: 500+ Employees'\n",
    "                         }"
   ]
  },
  {
   "cell_type": "code",
   "execution_count": 164,
   "metadata": {},
   "outputs": [],
   "source": [
    "# Creating a new column in the 'cd_402_wac_totals_full_dataset' dataframe: 'WAC Title'.\n",
    "# Using the map function to assign the values from the dictionary to the new columns where the reference column matches the key.\n",
    "# The lambda function checks if the key exists in the dictionary. If it does, it returns the corresponding 1st value; if not, it returns None.\n",
    "\n",
    "cd_402_wac_totals_full_dataset['WAC Title'] = cd_402_wac_totals_full_dataset['WAC Code'].map(lambda x: wac_title_dict.get(x) if wac_title_dict.get(x) is not None else None)"
   ]
  },
  {
   "cell_type": "code",
   "execution_count": 253,
   "metadata": {},
   "outputs": [
    {
     "data": {
      "text/html": [
       "<div>\n",
       "<style scoped>\n",
       "    .dataframe tbody tr th:only-of-type {\n",
       "        vertical-align: middle;\n",
       "    }\n",
       "\n",
       "    .dataframe tbody tr th {\n",
       "        vertical-align: top;\n",
       "    }\n",
       "\n",
       "    .dataframe thead th {\n",
       "        text-align: right;\n",
       "    }\n",
       "</style>\n",
       "<table border=\"1\" class=\"dataframe\">\n",
       "  <thead>\n",
       "    <tr style=\"text-align: right;\">\n",
       "      <th></th>\n",
       "      <th>WAC Code</th>\n",
       "      <th>WAC Total</th>\n",
       "      <th>WAC Title</th>\n",
       "    </tr>\n",
       "  </thead>\n",
       "  <tbody>\n",
       "    <tr>\n",
       "      <th>50</th>\n",
       "      <td>CFS05</td>\n",
       "      <td>0.0</td>\n",
       "      <td>Number of jobs for workers at firms with Firm ...</td>\n",
       "    </tr>\n",
       "    <tr>\n",
       "      <th>48</th>\n",
       "      <td>CFS03</td>\n",
       "      <td>0.0</td>\n",
       "      <td>Number of jobs for workers at firms with Firm ...</td>\n",
       "    </tr>\n",
       "    <tr>\n",
       "      <th>47</th>\n",
       "      <td>CFS02</td>\n",
       "      <td>0.0</td>\n",
       "      <td>Number of jobs for workers at firms with Firm ...</td>\n",
       "    </tr>\n",
       "    <tr>\n",
       "      <th>46</th>\n",
       "      <td>CFS01</td>\n",
       "      <td>0.0</td>\n",
       "      <td>Number of jobs for workers at firms with Firm ...</td>\n",
       "    </tr>\n",
       "    <tr>\n",
       "      <th>45</th>\n",
       "      <td>CFA05</td>\n",
       "      <td>0.0</td>\n",
       "      <td>Number of jobs for workers at firms with Firm ...</td>\n",
       "    </tr>\n",
       "    <tr>\n",
       "      <th>44</th>\n",
       "      <td>CFA04</td>\n",
       "      <td>0.0</td>\n",
       "      <td>Number of jobs for workers at firms with Firm ...</td>\n",
       "    </tr>\n",
       "    <tr>\n",
       "      <th>43</th>\n",
       "      <td>CFA03</td>\n",
       "      <td>0.0</td>\n",
       "      <td>Number of jobs for workers at firms with Firm ...</td>\n",
       "    </tr>\n",
       "    <tr>\n",
       "      <th>8</th>\n",
       "      <td>CNS02</td>\n",
       "      <td>0.0</td>\n",
       "      <td>Number of jobs in NAICS sector 21 (Mining, Qua...</td>\n",
       "    </tr>\n",
       "    <tr>\n",
       "      <th>49</th>\n",
       "      <td>CFS04</td>\n",
       "      <td>0.0</td>\n",
       "      <td>Number of jobs for workers at firms with Firm ...</td>\n",
       "    </tr>\n",
       "    <tr>\n",
       "      <th>42</th>\n",
       "      <td>CFA02</td>\n",
       "      <td>0.0</td>\n",
       "      <td>Number of jobs for workers at firms with Firm ...</td>\n",
       "    </tr>\n",
       "    <tr>\n",
       "      <th>41</th>\n",
       "      <td>CFA01</td>\n",
       "      <td>0.0</td>\n",
       "      <td>Number of jobs for workers at firms with Firm ...</td>\n",
       "    </tr>\n",
       "    <tr>\n",
       "      <th>7</th>\n",
       "      <td>CNS01</td>\n",
       "      <td>6.0</td>\n",
       "      <td>Number of jobs in NAICS sector 11 (Agriculture...</td>\n",
       "    </tr>\n",
       "    <tr>\n",
       "      <th>9</th>\n",
       "      <td>CNS03</td>\n",
       "      <td>13.0</td>\n",
       "      <td>Number of jobs in NAICS sector 22 (Utilities)</td>\n",
       "    </tr>\n",
       "    <tr>\n",
       "      <th>31</th>\n",
       "      <td>CR05</td>\n",
       "      <td>207.0</td>\n",
       "      <td>Number of jobs for workers with Race: Native H...</td>\n",
       "    </tr>\n",
       "    <tr>\n",
       "      <th>19</th>\n",
       "      <td>CNS13</td>\n",
       "      <td>238.0</td>\n",
       "      <td>Number of jobs in NAICS sector 55 (Management ...</td>\n",
       "    </tr>\n",
       "    <tr>\n",
       "      <th>23</th>\n",
       "      <td>CNS17</td>\n",
       "      <td>277.0</td>\n",
       "      <td>Number of jobs in NAICS sector 71 (Arts, Enter...</td>\n",
       "    </tr>\n",
       "    <tr>\n",
       "      <th>29</th>\n",
       "      <td>CR03</td>\n",
       "      <td>830.0</td>\n",
       "      <td>Number of jobs for workers with Race: American...</td>\n",
       "    </tr>\n",
       "    <tr>\n",
       "      <th>15</th>\n",
       "      <td>CNS09</td>\n",
       "      <td>1334.0</td>\n",
       "      <td>Number of jobs in NAICS sector 51 (Information)</td>\n",
       "    </tr>\n",
       "    <tr>\n",
       "      <th>17</th>\n",
       "      <td>CNS11</td>\n",
       "      <td>1656.0</td>\n",
       "      <td>Number of jobs in NAICS sector 53 (Real Estate...</td>\n",
       "    </tr>\n",
       "    <tr>\n",
       "      <th>32</th>\n",
       "      <td>CR07</td>\n",
       "      <td>1765.0</td>\n",
       "      <td>Number of jobs for workers with Race: Two or M...</td>\n",
       "    </tr>\n",
       "    <tr>\n",
       "      <th>25</th>\n",
       "      <td>CNS19</td>\n",
       "      <td>1914.0</td>\n",
       "      <td>Number of jobs in NAICS sector 81 (Other Servi...</td>\n",
       "    </tr>\n",
       "    <tr>\n",
       "      <th>16</th>\n",
       "      <td>CNS10</td>\n",
       "      <td>2871.0</td>\n",
       "      <td>Number of jobs in NAICS sector 52 (Finance and...</td>\n",
       "    </tr>\n",
       "    <tr>\n",
       "      <th>18</th>\n",
       "      <td>CNS12</td>\n",
       "      <td>2911.0</td>\n",
       "      <td>Number of jobs in NAICS sector 54 (Professiona...</td>\n",
       "    </tr>\n",
       "    <tr>\n",
       "      <th>24</th>\n",
       "      <td>CNS18</td>\n",
       "      <td>3203.0</td>\n",
       "      <td>Number of jobs in NAICS sector 72 (Accommodati...</td>\n",
       "    </tr>\n",
       "    <tr>\n",
       "      <th>21</th>\n",
       "      <td>CNS15</td>\n",
       "      <td>3804.0</td>\n",
       "      <td>Number of jobs in NAICS sector 61 (Educational...</td>\n",
       "    </tr>\n",
       "    <tr>\n",
       "      <th>11</th>\n",
       "      <td>CNS05</td>\n",
       "      <td>4476.0</td>\n",
       "      <td>Number of jobs in NAICS sector 31-33 (Manufact...</td>\n",
       "    </tr>\n",
       "    <tr>\n",
       "      <th>12</th>\n",
       "      <td>CNS06</td>\n",
       "      <td>4738.0</td>\n",
       "      <td>Number of jobs in NAICS sector 42 (Wholesale T...</td>\n",
       "    </tr>\n",
       "    <tr>\n",
       "      <th>14</th>\n",
       "      <td>CNS08</td>\n",
       "      <td>5490.0</td>\n",
       "      <td>Number of jobs in NAICS sector 48-49 (Transpor...</td>\n",
       "    </tr>\n",
       "    <tr>\n",
       "      <th>22</th>\n",
       "      <td>CNS16</td>\n",
       "      <td>6790.0</td>\n",
       "      <td>Number of jobs in NAICS sector 62 (Health Care...</td>\n",
       "    </tr>\n",
       "    <tr>\n",
       "      <th>13</th>\n",
       "      <td>CNS07</td>\n",
       "      <td>6874.0</td>\n",
       "      <td>Number of jobs in NAICS sector 44-45 (Retail T...</td>\n",
       "    </tr>\n",
       "    <tr>\n",
       "      <th>30</th>\n",
       "      <td>CR04</td>\n",
       "      <td>10478.0</td>\n",
       "      <td>Number of jobs for workers with Race: Asian Alone</td>\n",
       "    </tr>\n",
       "    <tr>\n",
       "      <th>4</th>\n",
       "      <td>CE01</td>\n",
       "      <td>10572.0</td>\n",
       "      <td>Number of jobs with earnings $1250/month or less</td>\n",
       "    </tr>\n",
       "    <tr>\n",
       "      <th>35</th>\n",
       "      <td>CD01</td>\n",
       "      <td>12218.0</td>\n",
       "      <td>Number of jobs for workers with Educational At...</td>\n",
       "    </tr>\n",
       "    <tr>\n",
       "      <th>26</th>\n",
       "      <td>CNS20</td>\n",
       "      <td>12978.0</td>\n",
       "      <td>Number of jobs in NAICS sector 92 (Public Admi...</td>\n",
       "    </tr>\n",
       "    <tr>\n",
       "      <th>10</th>\n",
       "      <td>CNS04</td>\n",
       "      <td>13187.0</td>\n",
       "      <td>Number of jobs in NAICS sector 23 (Construction)</td>\n",
       "    </tr>\n",
       "    <tr>\n",
       "      <th>20</th>\n",
       "      <td>CNS14</td>\n",
       "      <td>14861.0</td>\n",
       "      <td>Number of jobs in NAICS sector 56 (Administrat...</td>\n",
       "    </tr>\n",
       "    <tr>\n",
       "      <th>1</th>\n",
       "      <td>CA01</td>\n",
       "      <td>15402.0</td>\n",
       "      <td>Number of jobs for workers age 29 or younger</td>\n",
       "    </tr>\n",
       "    <tr>\n",
       "      <th>36</th>\n",
       "      <td>CD02</td>\n",
       "      <td>16971.0</td>\n",
       "      <td>Number of jobs for workers with Educational At...</td>\n",
       "    </tr>\n",
       "    <tr>\n",
       "      <th>37</th>\n",
       "      <td>CD03</td>\n",
       "      <td>20709.0</td>\n",
       "      <td>Number of jobs for workers with Educational At...</td>\n",
       "    </tr>\n",
       "    <tr>\n",
       "      <th>5</th>\n",
       "      <td>CE02</td>\n",
       "      <td>22204.0</td>\n",
       "      <td>Number of jobs with earnings $1251/month to $3...</td>\n",
       "    </tr>\n",
       "    <tr>\n",
       "      <th>3</th>\n",
       "      <td>CA03</td>\n",
       "      <td>22304.0</td>\n",
       "      <td>Number of jobs for workers age 55 or older</td>\n",
       "    </tr>\n",
       "    <tr>\n",
       "      <th>38</th>\n",
       "      <td>CD04</td>\n",
       "      <td>22321.0</td>\n",
       "      <td>Number of jobs for workers with Educational At...</td>\n",
       "    </tr>\n",
       "    <tr>\n",
       "      <th>28</th>\n",
       "      <td>CR02</td>\n",
       "      <td>22931.0</td>\n",
       "      <td>Number of jobs for workers with Race: Black or...</td>\n",
       "    </tr>\n",
       "    <tr>\n",
       "      <th>34</th>\n",
       "      <td>CT02</td>\n",
       "      <td>23674.0</td>\n",
       "      <td>Number of jobs for workers with Ethnicity: His...</td>\n",
       "    </tr>\n",
       "    <tr>\n",
       "      <th>40</th>\n",
       "      <td>CS02</td>\n",
       "      <td>35023.0</td>\n",
       "      <td>Number of jobs for workers with Sex: Female</td>\n",
       "    </tr>\n",
       "    <tr>\n",
       "      <th>2</th>\n",
       "      <td>CA02</td>\n",
       "      <td>49915.0</td>\n",
       "      <td>Number of jobs for workers age 30 to 54</td>\n",
       "    </tr>\n",
       "    <tr>\n",
       "      <th>27</th>\n",
       "      <td>CR01</td>\n",
       "      <td>51410.0</td>\n",
       "      <td>Number of jobs for workers with Race: White, A...</td>\n",
       "    </tr>\n",
       "    <tr>\n",
       "      <th>39</th>\n",
       "      <td>CS01</td>\n",
       "      <td>52598.0</td>\n",
       "      <td>Number of jobs for workers with Sex: Male</td>\n",
       "    </tr>\n",
       "    <tr>\n",
       "      <th>6</th>\n",
       "      <td>CE03</td>\n",
       "      <td>54845.0</td>\n",
       "      <td>Number of jobs with earnings greater than $333...</td>\n",
       "    </tr>\n",
       "    <tr>\n",
       "      <th>33</th>\n",
       "      <td>CT01</td>\n",
       "      <td>63947.0</td>\n",
       "      <td>Number of jobs for workers with Ethnicity: Not...</td>\n",
       "    </tr>\n",
       "    <tr>\n",
       "      <th>0</th>\n",
       "      <td>C000</td>\n",
       "      <td>87621.0</td>\n",
       "      <td>Total number of jobs</td>\n",
       "    </tr>\n",
       "  </tbody>\n",
       "</table>\n",
       "</div>"
      ],
      "text/plain": [
       "   WAC Code  WAC Total                                          WAC Title\n",
       "50    CFS05        0.0  Number of jobs for workers at firms with Firm ...\n",
       "48    CFS03        0.0  Number of jobs for workers at firms with Firm ...\n",
       "47    CFS02        0.0  Number of jobs for workers at firms with Firm ...\n",
       "46    CFS01        0.0  Number of jobs for workers at firms with Firm ...\n",
       "45    CFA05        0.0  Number of jobs for workers at firms with Firm ...\n",
       "44    CFA04        0.0  Number of jobs for workers at firms with Firm ...\n",
       "43    CFA03        0.0  Number of jobs for workers at firms with Firm ...\n",
       "8     CNS02        0.0  Number of jobs in NAICS sector 21 (Mining, Qua...\n",
       "49    CFS04        0.0  Number of jobs for workers at firms with Firm ...\n",
       "42    CFA02        0.0  Number of jobs for workers at firms with Firm ...\n",
       "41    CFA01        0.0  Number of jobs for workers at firms with Firm ...\n",
       "7     CNS01        6.0  Number of jobs in NAICS sector 11 (Agriculture...\n",
       "9     CNS03       13.0      Number of jobs in NAICS sector 22 (Utilities)\n",
       "31     CR05      207.0  Number of jobs for workers with Race: Native H...\n",
       "19    CNS13      238.0  Number of jobs in NAICS sector 55 (Management ...\n",
       "23    CNS17      277.0  Number of jobs in NAICS sector 71 (Arts, Enter...\n",
       "29     CR03      830.0  Number of jobs for workers with Race: American...\n",
       "15    CNS09     1334.0    Number of jobs in NAICS sector 51 (Information)\n",
       "17    CNS11     1656.0  Number of jobs in NAICS sector 53 (Real Estate...\n",
       "32     CR07     1765.0  Number of jobs for workers with Race: Two or M...\n",
       "25    CNS19     1914.0  Number of jobs in NAICS sector 81 (Other Servi...\n",
       "16    CNS10     2871.0  Number of jobs in NAICS sector 52 (Finance and...\n",
       "18    CNS12     2911.0  Number of jobs in NAICS sector 54 (Professiona...\n",
       "24    CNS18     3203.0  Number of jobs in NAICS sector 72 (Accommodati...\n",
       "21    CNS15     3804.0  Number of jobs in NAICS sector 61 (Educational...\n",
       "11    CNS05     4476.0  Number of jobs in NAICS sector 31-33 (Manufact...\n",
       "12    CNS06     4738.0  Number of jobs in NAICS sector 42 (Wholesale T...\n",
       "14    CNS08     5490.0  Number of jobs in NAICS sector 48-49 (Transpor...\n",
       "22    CNS16     6790.0  Number of jobs in NAICS sector 62 (Health Care...\n",
       "13    CNS07     6874.0  Number of jobs in NAICS sector 44-45 (Retail T...\n",
       "30     CR04    10478.0  Number of jobs for workers with Race: Asian Alone\n",
       "4      CE01    10572.0   Number of jobs with earnings $1250/month or less\n",
       "35     CD01    12218.0  Number of jobs for workers with Educational At...\n",
       "26    CNS20    12978.0  Number of jobs in NAICS sector 92 (Public Admi...\n",
       "10    CNS04    13187.0   Number of jobs in NAICS sector 23 (Construction)\n",
       "20    CNS14    14861.0  Number of jobs in NAICS sector 56 (Administrat...\n",
       "1      CA01    15402.0       Number of jobs for workers age 29 or younger\n",
       "36     CD02    16971.0  Number of jobs for workers with Educational At...\n",
       "37     CD03    20709.0  Number of jobs for workers with Educational At...\n",
       "5      CE02    22204.0  Number of jobs with earnings $1251/month to $3...\n",
       "3      CA03    22304.0         Number of jobs for workers age 55 or older\n",
       "38     CD04    22321.0  Number of jobs for workers with Educational At...\n",
       "28     CR02    22931.0  Number of jobs for workers with Race: Black or...\n",
       "34     CT02    23674.0  Number of jobs for workers with Ethnicity: His...\n",
       "40     CS02    35023.0        Number of jobs for workers with Sex: Female\n",
       "2      CA02    49915.0            Number of jobs for workers age 30 to 54\n",
       "27     CR01    51410.0  Number of jobs for workers with Race: White, A...\n",
       "39     CS01    52598.0          Number of jobs for workers with Sex: Male\n",
       "6      CE03    54845.0  Number of jobs with earnings greater than $333...\n",
       "33     CT01    63947.0  Number of jobs for workers with Ethnicity: Not...\n",
       "0      C000    87621.0                               Total number of jobs"
      ]
     },
     "execution_count": 253,
     "metadata": {},
     "output_type": "execute_result"
    }
   ],
   "source": [
    "cd_402_wac_totals_full_dataset"
   ]
  },
  {
   "cell_type": "code",
   "execution_count": 251,
   "metadata": {},
   "outputs": [],
   "source": [
    "# Sorting values in descending order\n",
    "cd_402_wac_totals_full_dataset = cd_402_wac_totals_full_dataset.sort_values('WAC Total', ascending=True)"
   ]
  },
  {
   "cell_type": "code",
   "execution_count": 249,
   "metadata": {},
   "outputs": [
    {
     "data": {
      "application/vnd.plotly.v1+json": {
       "config": {
        "plotlyServerURL": "https://plot.ly"
       },
       "data": [
        {
         "alignmentgroup": "True",
         "hovertemplate": "WAC Total=%{x}<br>WAC Title=%{y}<extra></extra>",
         "legendgroup": "",
         "marker": {
          "color": "#636efa",
          "pattern": {
           "shape": ""
          }
         },
         "name": "",
         "offsetgroup": "",
         "orientation": "h",
         "showlegend": false,
         "textposition": "auto",
         "type": "bar",
         "x": [
          0,
          0,
          0,
          0,
          0,
          0,
          0,
          0,
          0,
          0,
          0,
          6,
          13,
          207,
          238,
          277,
          830,
          1334,
          1656,
          1765,
          1914,
          2871,
          2911,
          3203,
          3804,
          4476,
          4738,
          5490,
          6790,
          6874,
          10478,
          10572,
          12218,
          12978,
          13187,
          14861,
          15402,
          16971,
          20709,
          22204,
          22304,
          22321,
          22931,
          23674,
          35023,
          49915,
          51410,
          52598,
          54845,
          63947,
          87621
         ],
         "xaxis": "x",
         "y": [
          "Number of jobs for workers at firms with Firm Size: 500+ Employees",
          "Number of jobs for workers at firms with Firm Size: 50-249 Employees",
          "Number of jobs for workers at firms with Firm Size: 20-49 Employees",
          "Number of jobs for workers at firms with Firm Size: 0-19 Employees",
          "Number of jobs for workers at firms with Firm Age: 11+ Years",
          "Number of jobs for workers at firms with Firm Age: 6-10 Years1",
          "Number of jobs for workers at firms with Firm Age: 4-5 Years",
          "Number of jobs in NAICS sector 21 (Mining, Quarrying, and Oil and Gas Extraction)",
          "Number of jobs for workers at firms with Firm Size: 250-499 Employees",
          "Number of jobs for workers at firms with Firm Age: 2-3 Years",
          "Number of jobs for workers at firms with Firm Age: 0-1 Years",
          "Number of jobs in NAICS sector 11 (Agriculture, Forestry, Fishing and Hunting)",
          "Number of jobs in NAICS sector 22 (Utilities)",
          "Number of jobs for workers with Race: Native Hawaiian or Other Pacific Islander Alone",
          "Number of jobs in NAICS sector 55 (Management of Companies and Enterprises)",
          "Number of jobs in NAICS sector 71 (Arts, Entertainment, and Recreation)",
          "Number of jobs for workers with Race: American Indian or Alaska Native Alone",
          "Number of jobs in NAICS sector 51 (Information)",
          "Number of jobs in NAICS sector 53 (Real Estate and Rental and Leasing)",
          "Number of jobs for workers with Race: Two or More Race Groups",
          "Number of jobs in NAICS sector 81 (Other Services [except Public Administration])",
          "Number of jobs in NAICS sector 52 (Finance and Insurance)",
          "Number of jobs in NAICS sector 54 (Professional, Scientific, and Technical Services)",
          "Number of jobs in NAICS sector 72 (Accommodation and Food Services)",
          "Number of jobs in NAICS sector 61 (Educational Services)",
          "Number of jobs in NAICS sector 31-33 (Manufacturing)",
          "Number of jobs in NAICS sector 42 (Wholesale Trade)",
          "Number of jobs in NAICS sector 48-49 (Transportation and Warehousing)",
          "Number of jobs in NAICS sector 62 (Health Care and Social Assistance)",
          "Number of jobs in NAICS sector 44-45 (Retail Trade)",
          "Number of jobs for workers with Race: Asian Alone",
          "Number of jobs with earnings $1250/month or less",
          "Number of jobs for workers with Educational Attainment: Less than high school",
          "Number of jobs in NAICS sector 92 (Public Administration)",
          "Number of jobs in NAICS sector 23 (Construction)",
          "Number of jobs in NAICS sector 56 (Administrative and Support and Waste Management and Remediation Services)",
          "Number of jobs for workers age 29 or younger",
          "Number of jobs for workers with Educational Attainment: High school or equivalent, no college",
          "Number of jobs for workers with Educational Attainment: Some college or Associate degree",
          "Number of jobs with earnings $1251/month to $3333/month",
          "Number of jobs for workers age 55 or older",
          "Number of jobs for workers with Educational Attainment: Bachelors degree or advanced degree1",
          "Number of jobs for workers with Race: Black or African American Alone",
          "Number of jobs for workers with Ethnicity: Hispanic or Latino",
          "Number of jobs for workers with Sex: Female",
          "Number of jobs for workers age 30 to 54",
          "Number of jobs for workers with Race: White, Alone",
          "Number of jobs for workers with Sex: Male",
          "Number of jobs with earnings greater than $3333/month",
          "Number of jobs for workers with Ethnicity: Not Hispanic or Latino",
          "Total number of jobs"
         ],
         "yaxis": "y"
        }
       ],
       "layout": {
        "barmode": "relative",
        "height": 1000,
        "legend": {
         "tracegroupgap": 0,
         "traceorder": "reversed"
        },
        "margin": {
         "t": 60
        },
        "paper_bgcolor": "rgba(0, 0, 0, 0)",
        "plot_bgcolor": "rgba(0, 0, 0, 0)",
        "template": {
         "data": {
          "bar": [
           {
            "error_x": {
             "color": "#2a3f5f"
            },
            "error_y": {
             "color": "#2a3f5f"
            },
            "marker": {
             "line": {
              "color": "#E5ECF6",
              "width": 0.5
             },
             "pattern": {
              "fillmode": "overlay",
              "size": 10,
              "solidity": 0.2
             }
            },
            "type": "bar"
           }
          ],
          "barpolar": [
           {
            "marker": {
             "line": {
              "color": "#E5ECF6",
              "width": 0.5
             },
             "pattern": {
              "fillmode": "overlay",
              "size": 10,
              "solidity": 0.2
             }
            },
            "type": "barpolar"
           }
          ],
          "carpet": [
           {
            "aaxis": {
             "endlinecolor": "#2a3f5f",
             "gridcolor": "white",
             "linecolor": "white",
             "minorgridcolor": "white",
             "startlinecolor": "#2a3f5f"
            },
            "baxis": {
             "endlinecolor": "#2a3f5f",
             "gridcolor": "white",
             "linecolor": "white",
             "minorgridcolor": "white",
             "startlinecolor": "#2a3f5f"
            },
            "type": "carpet"
           }
          ],
          "choropleth": [
           {
            "colorbar": {
             "outlinewidth": 0,
             "ticks": ""
            },
            "type": "choropleth"
           }
          ],
          "contour": [
           {
            "colorbar": {
             "outlinewidth": 0,
             "ticks": ""
            },
            "colorscale": [
             [
              0,
              "#0d0887"
             ],
             [
              0.1111111111111111,
              "#46039f"
             ],
             [
              0.2222222222222222,
              "#7201a8"
             ],
             [
              0.3333333333333333,
              "#9c179e"
             ],
             [
              0.4444444444444444,
              "#bd3786"
             ],
             [
              0.5555555555555556,
              "#d8576b"
             ],
             [
              0.6666666666666666,
              "#ed7953"
             ],
             [
              0.7777777777777778,
              "#fb9f3a"
             ],
             [
              0.8888888888888888,
              "#fdca26"
             ],
             [
              1,
              "#f0f921"
             ]
            ],
            "type": "contour"
           }
          ],
          "contourcarpet": [
           {
            "colorbar": {
             "outlinewidth": 0,
             "ticks": ""
            },
            "type": "contourcarpet"
           }
          ],
          "heatmap": [
           {
            "colorbar": {
             "outlinewidth": 0,
             "ticks": ""
            },
            "colorscale": [
             [
              0,
              "#0d0887"
             ],
             [
              0.1111111111111111,
              "#46039f"
             ],
             [
              0.2222222222222222,
              "#7201a8"
             ],
             [
              0.3333333333333333,
              "#9c179e"
             ],
             [
              0.4444444444444444,
              "#bd3786"
             ],
             [
              0.5555555555555556,
              "#d8576b"
             ],
             [
              0.6666666666666666,
              "#ed7953"
             ],
             [
              0.7777777777777778,
              "#fb9f3a"
             ],
             [
              0.8888888888888888,
              "#fdca26"
             ],
             [
              1,
              "#f0f921"
             ]
            ],
            "type": "heatmap"
           }
          ],
          "heatmapgl": [
           {
            "colorbar": {
             "outlinewidth": 0,
             "ticks": ""
            },
            "colorscale": [
             [
              0,
              "#0d0887"
             ],
             [
              0.1111111111111111,
              "#46039f"
             ],
             [
              0.2222222222222222,
              "#7201a8"
             ],
             [
              0.3333333333333333,
              "#9c179e"
             ],
             [
              0.4444444444444444,
              "#bd3786"
             ],
             [
              0.5555555555555556,
              "#d8576b"
             ],
             [
              0.6666666666666666,
              "#ed7953"
             ],
             [
              0.7777777777777778,
              "#fb9f3a"
             ],
             [
              0.8888888888888888,
              "#fdca26"
             ],
             [
              1,
              "#f0f921"
             ]
            ],
            "type": "heatmapgl"
           }
          ],
          "histogram": [
           {
            "marker": {
             "pattern": {
              "fillmode": "overlay",
              "size": 10,
              "solidity": 0.2
             }
            },
            "type": "histogram"
           }
          ],
          "histogram2d": [
           {
            "colorbar": {
             "outlinewidth": 0,
             "ticks": ""
            },
            "colorscale": [
             [
              0,
              "#0d0887"
             ],
             [
              0.1111111111111111,
              "#46039f"
             ],
             [
              0.2222222222222222,
              "#7201a8"
             ],
             [
              0.3333333333333333,
              "#9c179e"
             ],
             [
              0.4444444444444444,
              "#bd3786"
             ],
             [
              0.5555555555555556,
              "#d8576b"
             ],
             [
              0.6666666666666666,
              "#ed7953"
             ],
             [
              0.7777777777777778,
              "#fb9f3a"
             ],
             [
              0.8888888888888888,
              "#fdca26"
             ],
             [
              1,
              "#f0f921"
             ]
            ],
            "type": "histogram2d"
           }
          ],
          "histogram2dcontour": [
           {
            "colorbar": {
             "outlinewidth": 0,
             "ticks": ""
            },
            "colorscale": [
             [
              0,
              "#0d0887"
             ],
             [
              0.1111111111111111,
              "#46039f"
             ],
             [
              0.2222222222222222,
              "#7201a8"
             ],
             [
              0.3333333333333333,
              "#9c179e"
             ],
             [
              0.4444444444444444,
              "#bd3786"
             ],
             [
              0.5555555555555556,
              "#d8576b"
             ],
             [
              0.6666666666666666,
              "#ed7953"
             ],
             [
              0.7777777777777778,
              "#fb9f3a"
             ],
             [
              0.8888888888888888,
              "#fdca26"
             ],
             [
              1,
              "#f0f921"
             ]
            ],
            "type": "histogram2dcontour"
           }
          ],
          "mesh3d": [
           {
            "colorbar": {
             "outlinewidth": 0,
             "ticks": ""
            },
            "type": "mesh3d"
           }
          ],
          "parcoords": [
           {
            "line": {
             "colorbar": {
              "outlinewidth": 0,
              "ticks": ""
             }
            },
            "type": "parcoords"
           }
          ],
          "pie": [
           {
            "automargin": true,
            "type": "pie"
           }
          ],
          "scatter": [
           {
            "fillpattern": {
             "fillmode": "overlay",
             "size": 10,
             "solidity": 0.2
            },
            "type": "scatter"
           }
          ],
          "scatter3d": [
           {
            "line": {
             "colorbar": {
              "outlinewidth": 0,
              "ticks": ""
             }
            },
            "marker": {
             "colorbar": {
              "outlinewidth": 0,
              "ticks": ""
             }
            },
            "type": "scatter3d"
           }
          ],
          "scattercarpet": [
           {
            "marker": {
             "colorbar": {
              "outlinewidth": 0,
              "ticks": ""
             }
            },
            "type": "scattercarpet"
           }
          ],
          "scattergeo": [
           {
            "marker": {
             "colorbar": {
              "outlinewidth": 0,
              "ticks": ""
             }
            },
            "type": "scattergeo"
           }
          ],
          "scattergl": [
           {
            "marker": {
             "colorbar": {
              "outlinewidth": 0,
              "ticks": ""
             }
            },
            "type": "scattergl"
           }
          ],
          "scattermapbox": [
           {
            "marker": {
             "colorbar": {
              "outlinewidth": 0,
              "ticks": ""
             }
            },
            "type": "scattermapbox"
           }
          ],
          "scatterpolar": [
           {
            "marker": {
             "colorbar": {
              "outlinewidth": 0,
              "ticks": ""
             }
            },
            "type": "scatterpolar"
           }
          ],
          "scatterpolargl": [
           {
            "marker": {
             "colorbar": {
              "outlinewidth": 0,
              "ticks": ""
             }
            },
            "type": "scatterpolargl"
           }
          ],
          "scatterternary": [
           {
            "marker": {
             "colorbar": {
              "outlinewidth": 0,
              "ticks": ""
             }
            },
            "type": "scatterternary"
           }
          ],
          "surface": [
           {
            "colorbar": {
             "outlinewidth": 0,
             "ticks": ""
            },
            "colorscale": [
             [
              0,
              "#0d0887"
             ],
             [
              0.1111111111111111,
              "#46039f"
             ],
             [
              0.2222222222222222,
              "#7201a8"
             ],
             [
              0.3333333333333333,
              "#9c179e"
             ],
             [
              0.4444444444444444,
              "#bd3786"
             ],
             [
              0.5555555555555556,
              "#d8576b"
             ],
             [
              0.6666666666666666,
              "#ed7953"
             ],
             [
              0.7777777777777778,
              "#fb9f3a"
             ],
             [
              0.8888888888888888,
              "#fdca26"
             ],
             [
              1,
              "#f0f921"
             ]
            ],
            "type": "surface"
           }
          ],
          "table": [
           {
            "cells": {
             "fill": {
              "color": "#EBF0F8"
             },
             "line": {
              "color": "white"
             }
            },
            "header": {
             "fill": {
              "color": "#C8D4E3"
             },
             "line": {
              "color": "white"
             }
            },
            "type": "table"
           }
          ]
         },
         "layout": {
          "annotationdefaults": {
           "arrowcolor": "#2a3f5f",
           "arrowhead": 0,
           "arrowwidth": 1
          },
          "autotypenumbers": "strict",
          "coloraxis": {
           "colorbar": {
            "outlinewidth": 0,
            "ticks": ""
           }
          },
          "colorscale": {
           "diverging": [
            [
             0,
             "#8e0152"
            ],
            [
             0.1,
             "#c51b7d"
            ],
            [
             0.2,
             "#de77ae"
            ],
            [
             0.3,
             "#f1b6da"
            ],
            [
             0.4,
             "#fde0ef"
            ],
            [
             0.5,
             "#f7f7f7"
            ],
            [
             0.6,
             "#e6f5d0"
            ],
            [
             0.7,
             "#b8e186"
            ],
            [
             0.8,
             "#7fbc41"
            ],
            [
             0.9,
             "#4d9221"
            ],
            [
             1,
             "#276419"
            ]
           ],
           "sequential": [
            [
             0,
             "#0d0887"
            ],
            [
             0.1111111111111111,
             "#46039f"
            ],
            [
             0.2222222222222222,
             "#7201a8"
            ],
            [
             0.3333333333333333,
             "#9c179e"
            ],
            [
             0.4444444444444444,
             "#bd3786"
            ],
            [
             0.5555555555555556,
             "#d8576b"
            ],
            [
             0.6666666666666666,
             "#ed7953"
            ],
            [
             0.7777777777777778,
             "#fb9f3a"
            ],
            [
             0.8888888888888888,
             "#fdca26"
            ],
            [
             1,
             "#f0f921"
            ]
           ],
           "sequentialminus": [
            [
             0,
             "#0d0887"
            ],
            [
             0.1111111111111111,
             "#46039f"
            ],
            [
             0.2222222222222222,
             "#7201a8"
            ],
            [
             0.3333333333333333,
             "#9c179e"
            ],
            [
             0.4444444444444444,
             "#bd3786"
            ],
            [
             0.5555555555555556,
             "#d8576b"
            ],
            [
             0.6666666666666666,
             "#ed7953"
            ],
            [
             0.7777777777777778,
             "#fb9f3a"
            ],
            [
             0.8888888888888888,
             "#fdca26"
            ],
            [
             1,
             "#f0f921"
            ]
           ]
          },
          "colorway": [
           "#636efa",
           "#EF553B",
           "#00cc96",
           "#ab63fa",
           "#FFA15A",
           "#19d3f3",
           "#FF6692",
           "#B6E880",
           "#FF97FF",
           "#FECB52"
          ],
          "font": {
           "color": "#2a3f5f"
          },
          "geo": {
           "bgcolor": "white",
           "lakecolor": "white",
           "landcolor": "#E5ECF6",
           "showlakes": true,
           "showland": true,
           "subunitcolor": "white"
          },
          "hoverlabel": {
           "align": "left"
          },
          "hovermode": "closest",
          "mapbox": {
           "style": "light"
          },
          "paper_bgcolor": "white",
          "plot_bgcolor": "#E5ECF6",
          "polar": {
           "angularaxis": {
            "gridcolor": "white",
            "linecolor": "white",
            "ticks": ""
           },
           "bgcolor": "#E5ECF6",
           "radialaxis": {
            "gridcolor": "white",
            "linecolor": "white",
            "ticks": ""
           }
          },
          "scene": {
           "xaxis": {
            "backgroundcolor": "#E5ECF6",
            "gridcolor": "white",
            "gridwidth": 2,
            "linecolor": "white",
            "showbackground": true,
            "ticks": "",
            "zerolinecolor": "white"
           },
           "yaxis": {
            "backgroundcolor": "#E5ECF6",
            "gridcolor": "white",
            "gridwidth": 2,
            "linecolor": "white",
            "showbackground": true,
            "ticks": "",
            "zerolinecolor": "white"
           },
           "zaxis": {
            "backgroundcolor": "#E5ECF6",
            "gridcolor": "white",
            "gridwidth": 2,
            "linecolor": "white",
            "showbackground": true,
            "ticks": "",
            "zerolinecolor": "white"
           }
          },
          "shapedefaults": {
           "line": {
            "color": "#2a3f5f"
           }
          },
          "ternary": {
           "aaxis": {
            "gridcolor": "white",
            "linecolor": "white",
            "ticks": ""
           },
           "baxis": {
            "gridcolor": "white",
            "linecolor": "white",
            "ticks": ""
           },
           "bgcolor": "#E5ECF6",
           "caxis": {
            "gridcolor": "white",
            "linecolor": "white",
            "ticks": ""
           }
          },
          "title": {
           "x": 0.05
          },
          "xaxis": {
           "automargin": true,
           "gridcolor": "white",
           "linecolor": "white",
           "ticks": "",
           "title": {
            "standoff": 15
           },
           "zerolinecolor": "white",
           "zerolinewidth": 2
          },
          "yaxis": {
           "automargin": true,
           "gridcolor": "white",
           "linecolor": "white",
           "ticks": "",
           "title": {
            "standoff": 15
           },
           "zerolinecolor": "white",
           "zerolinewidth": 2
          }
         }
        },
        "title": {
         "text": "Total Jobs by WAC Title",
         "x": 0.5
        },
        "xaxis": {
         "anchor": "y",
         "domain": [
          0,
          1
         ],
         "title": {
          "text": "WAC Total"
         }
        },
        "yaxis": {
         "anchor": "x",
         "domain": [
          0,
          1
         ],
         "title": {
          "text": "WAC Title"
         }
        }
       }
      }
     },
     "metadata": {},
     "output_type": "display_data"
    }
   ],
   "source": [
    "# Creating a horizontal bar chart\n",
    "\n",
    "fig = px.bar(cd_402_wac_totals_full_dataset, x=\"WAC Total\", y=\"WAC Title\", orientation='h', \n",
    "             height=1000)\n",
    "fig.update_layout(legend_traceorder=\"reversed\")\n",
    "fig.update_layout(title_text='Total Jobs by WAC Title', title_x=0.5)\n",
    "fig.update_layout(\n",
    "    {\n",
    "        \"paper_bgcolor\": \"rgba(0, 0, 0, 0)\",\n",
    "        \"plot_bgcolor\": \"rgba(0, 0, 0, 0)\",\n",
    "    }\n",
    ")\n",
    "fig.show()"
   ]
  },
  {
   "cell_type": "code",
   "execution_count": 257,
   "metadata": {},
   "outputs": [
    {
     "data": {
      "image/png": "[encoded data removed]",
      "text/plain": [
       "<Figure size 640x480 with 2 Axes>"
      ]
     },
     "metadata": {},
     "output_type": "display_data"
    },
    {
     "data": {
      "image/png": "[encoded data removed]",
      "text/plain": [
       "<Figure size 640x480 with 2 Axes>"
      ]
     },
     "metadata": {},
     "output_type": "display_data"
    },
    {
     "data": {
      "image/png": "[encoded data removed]",
      "text/plain": [
       "<Figure size 640x480 with 2 Axes>"
      ]
     },
     "metadata": {},
     "output_type": "display_data"
    }
   ],
   "source": [
    "# Creating choropleth maps for a few different metrics\n",
    "\n",
    "ax_1 = cd_402_all.plot(column = 'C000', \n",
    "                       legend = True, \n",
    "                       cmap = 'PuRd',\n",
    "                       legend_kwds={\"label\": \"Total Number of Jobs in CD402 (87,621)\", \"orientation\": \"horizontal\"},)\n",
    "ax_1.set_axis_off();\n",
    "\n",
    "ax_1 = cd_402_all.plot(column = 'CT01', \n",
    "                       legend = True, \n",
    "                       cmap = 'PuRd',\n",
    "                       legend_kwds={\"label\": \"Number of Jobs for Workers with Ethnicity: Not Hispanic or Latino\", \"orientation\": \"horizontal\"},)\n",
    "ax_1.set_axis_off();\n",
    "\n",
    "ax_1 = cd_402_all.plot(column = 'CE03', \n",
    "                       legend = True, \n",
    "                       cmap = 'PuRd',\n",
    "                       legend_kwds={\"label\": \"Total Jobs in CD402: Female\", \"orientation\": \"horizontal\"},)\n",
    "ax_1.set_axis_off();"
   ]
  }
 ],
 "metadata": {
  "kernelspec": {
   "display_name": "data-analysis",
   "language": "python",
   "name": "python3"
  },
  "language_info": {
   "codemirror_mode": {
    "name": "ipython",
    "version": 3
   },
   "file_extension": ".py",
   "mimetype": "text/x-python",
   "name": "python",
   "nbconvert_exporter": "python",
   "pygments_lexer": "ipython3",
   "version": "3.9.19"
  }
 },
 "nbformat": 4,
 "nbformat_minor": 2
}
